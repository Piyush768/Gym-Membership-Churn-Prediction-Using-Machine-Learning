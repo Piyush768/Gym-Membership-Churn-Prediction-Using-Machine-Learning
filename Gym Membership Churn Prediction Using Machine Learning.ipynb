{
  "nbformat": 4,
  "nbformat_minor": 0,
  "metadata": {
    "colab": {
      "provenance": []
    },
    "kernelspec": {
      "name": "ir",
      "display_name": "R"
    },
    "language_info": {
      "name": "R"
    }
  },
  "cells": [
    {
      "cell_type": "markdown",
      "source": [
        "# ***Piyush Anil Patil***"
      ],
      "metadata": {
        "id": "JrDIJh8Q31Mr"
      }
    },
    {
      "cell_type": "markdown",
      "source": [
        "**The objective is to furnish the San Francisco Chronicle with a report that elucidates the principal findings pertaining to income dynamics in the city, which significantly impact its cost of living.**"
      ],
      "metadata": {
        "id": "eQ1XaTxEQyz1"
      }
    },
    {
      "cell_type": "markdown",
      "source": [
        "#1.***Objective of the Proposed Research***"
      ],
      "metadata": {
        "id": "417aak2MRMoV"
      }
    },
    {
      "cell_type": "markdown",
      "source": [
        "\n",
        "The primary goal of this research is to explore the extensive dataset of SF Employee Compensation spanning over a year from 2013 to 2020. The dataset contains 683278 Rows and 22 Columns. Each Data set representing crucial information such as Organization, Job Family, Job, Year, Organization, Department, Salaries, Overtime, Retirement, Health and Dental Benefit, Total Benefits and Total Compensation\n",
        "\n",
        "\n",
        "1. **Provide a Comprehensive Overview**: The primary objective is to offer readers a comprehensive overview of the income landscape in San Francisco. This should include key statistics such as median income levels, income distribution, and trends over recent years.\n",
        "\n",
        "2. **Highlight Income Disparities**: To shed light on income inequality within the city, one objective is to highlight disparities in income, especially between different sectors of the population, such as tech industry workers and service workers.\n",
        "\n",
        "3. **Explore the Impact of the Various Job Sector**: Another objective is to delve into the influence of the Job sector on income dynamics. This includes examining the extent to which tech industry jobs contribute to high median incomes and exploring any potential consequences for other residents.\n",
        "\n",
        "4. **Examine Income vs. Cost of Living**: To provide a clearer understanding of the challenges faced by San Francisco residents, the report should aim to examine the relationship between income levels and the cost of living in the city, particularly focusing on the affordability of housing."
      ],
      "metadata": {
        "id": "DdVj9ljcRrqZ"
      }
    },
    {
      "cell_type": "markdown",
      "source": [
        "#***2.DATA EXPLORATION***"
      ],
      "metadata": {
        "id": "FpoGRs4Qg2bv"
      }
    },
    {
      "cell_type": "code",
      "source": [
        "# Load the dataset\n",
        "sf.data <- read.csv(\"//employee-compensation.csv\")"
      ],
      "metadata": {
        "id": "T4GmyvJdS-Tf"
      },
      "execution_count": 6,
      "outputs": []
    },
    {
      "cell_type": "markdown",
      "source": [
        " 2.1. Calculate Columns and Rows of the Data Set"
      ],
      "metadata": {
        "id": "7FIVAetliY3I"
      }
    },
    {
      "cell_type": "code",
      "source": [
        "sf.data <- sf.data[sf.data$Year.Type == \"Fiscal\",]\n",
        "head(sf.data,5)"
      ],
      "metadata": {
        "colab": {
          "base_uri": "https://localhost:8080/",
          "height": 535
        },
        "id": "8_ZUnfTV5pJC",
        "outputId": "46b52ab3-1ece-4e89-9698-358cf2ec62f2"
      },
      "execution_count": 7,
      "outputs": [
        {
          "output_type": "display_data",
          "data": {
            "text/html": [
              "<table class=\"dataframe\">\n",
              "<caption>A data.frame: 5 × 22</caption>\n",
              "<thead>\n",
              "\t<tr><th></th><th scope=col>Organization.Group.Code</th><th scope=col>Job.Family.Code</th><th scope=col>Job.Code</th><th scope=col>Year.Type</th><th scope=col>Year</th><th scope=col>Organization.Group</th><th scope=col>Department.Code</th><th scope=col>Department</th><th scope=col>Union.Code</th><th scope=col>Union</th><th scope=col>⋯</th><th scope=col>Employee.Identifier</th><th scope=col>Salaries</th><th scope=col>Overtime</th><th scope=col>Other.Salaries</th><th scope=col>Total.Salary</th><th scope=col>Retirement</th><th scope=col>Health.and.Dental</th><th scope=col>Other.Benefits</th><th scope=col>Total.Benefits</th><th scope=col>Total.Compensation</th></tr>\n",
              "\t<tr><th></th><th scope=col>&lt;int&gt;</th><th scope=col>&lt;chr&gt;</th><th scope=col>&lt;chr&gt;</th><th scope=col>&lt;chr&gt;</th><th scope=col>&lt;int&gt;</th><th scope=col>&lt;chr&gt;</th><th scope=col>&lt;chr&gt;</th><th scope=col>&lt;chr&gt;</th><th scope=col>&lt;int&gt;</th><th scope=col>&lt;chr&gt;</th><th scope=col>⋯</th><th scope=col>&lt;int&gt;</th><th scope=col>&lt;dbl&gt;</th><th scope=col>&lt;dbl&gt;</th><th scope=col>&lt;dbl&gt;</th><th scope=col>&lt;dbl&gt;</th><th scope=col>&lt;dbl&gt;</th><th scope=col>&lt;dbl&gt;</th><th scope=col>&lt;dbl&gt;</th><th scope=col>&lt;dbl&gt;</th><th scope=col>&lt;dbl&gt;</th></tr>\n",
              "</thead>\n",
              "<tbody>\n",
              "\t<tr><th scope=row>298165</th><td>1</td><td>1000</td><td>1021</td><td>Fiscal</td><td>2013</td><td>Public Protection</td><td>ADP</td><td>ADP Adult Probation</td><td>21</td><td>Prof &amp; Tech Engineers - Miscellaneous, Local 21</td><td>⋯</td><td>37730</td><td> 58368.56</td><td>0</td><td>0</td><td> 58368.56</td><td>10628.94</td><td>12801.79</td><td>5254.13</td><td>28684.86</td><td> 87053.42</td></tr>\n",
              "\t<tr><th scope=row>298166</th><td>1</td><td>1000</td><td>1023</td><td>Fiscal</td><td>2013</td><td>Public Protection</td><td>ADP</td><td>ADP Adult Probation</td><td>21</td><td>Prof &amp; Tech Engineers - Miscellaneous, Local 21</td><td>⋯</td><td>26574</td><td> 99944.00</td><td>0</td><td>0</td><td> 99944.00</td><td>17700.03</td><td>12801.79</td><td>8311.72</td><td>38813.54</td><td>138757.54</td></tr>\n",
              "\t<tr><th scope=row>298167</th><td>1</td><td>1000</td><td>1031</td><td>Fiscal</td><td>2013</td><td>Public Protection</td><td>ADP</td><td>ADP Adult Probation</td><td>21</td><td>Prof &amp; Tech Engineers - Miscellaneous, Local 21</td><td>⋯</td><td> 8148</td><td> 59585.91</td><td>0</td><td>0</td><td> 59585.91</td><td>10850.65</td><td>12801.79</td><td>4461.25</td><td>28113.69</td><td> 87699.60</td></tr>\n",
              "\t<tr><th scope=row>298168</th><td>1</td><td>1000</td><td>1054</td><td>Fiscal</td><td>2013</td><td>Public Protection</td><td>ADP</td><td>ADP Adult Probation</td><td>21</td><td>Prof &amp; Tech Engineers - Miscellaneous, Local 21</td><td>⋯</td><td>27436</td><td> 65100.00</td><td>0</td><td>0</td><td> 65100.00</td><td>11529.18</td><td> 8616.59</td><td>5139.40</td><td>25285.17</td><td> 90385.17</td></tr>\n",
              "\t<tr><th scope=row>298169</th><td>1</td><td>1000</td><td>1070</td><td>Fiscal</td><td>2013</td><td>Public Protection</td><td>ADP</td><td>ADP Adult Probation</td><td>21</td><td>Prof &amp; Tech Engineers - Miscellaneous, Local 21</td><td>⋯</td><td>51426</td><td>134251.77</td><td>0</td><td>0</td><td>134251.77</td><td>23775.87</td><td>12801.79</td><td>9733.22</td><td>46310.88</td><td>180562.65</td></tr>\n",
              "</tbody>\n",
              "</table>\n"
            ],
            "text/markdown": "\nA data.frame: 5 × 22\n\n| <!--/--> | Organization.Group.Code &lt;int&gt; | Job.Family.Code &lt;chr&gt; | Job.Code &lt;chr&gt; | Year.Type &lt;chr&gt; | Year &lt;int&gt; | Organization.Group &lt;chr&gt; | Department.Code &lt;chr&gt; | Department &lt;chr&gt; | Union.Code &lt;int&gt; | Union &lt;chr&gt; | ⋯ ⋯ | Employee.Identifier &lt;int&gt; | Salaries &lt;dbl&gt; | Overtime &lt;dbl&gt; | Other.Salaries &lt;dbl&gt; | Total.Salary &lt;dbl&gt; | Retirement &lt;dbl&gt; | Health.and.Dental &lt;dbl&gt; | Other.Benefits &lt;dbl&gt; | Total.Benefits &lt;dbl&gt; | Total.Compensation &lt;dbl&gt; |\n|---|---|---|---|---|---|---|---|---|---|---|---|---|---|---|---|---|---|---|---|---|---|\n| 298165 | 1 | 1000 | 1021 | Fiscal | 2013 | Public Protection | ADP | ADP Adult Probation | 21 | Prof &amp; Tech Engineers - Miscellaneous, Local 21 | ⋯ | 37730 |  58368.56 | 0 | 0 |  58368.56 | 10628.94 | 12801.79 | 5254.13 | 28684.86 |  87053.42 |\n| 298166 | 1 | 1000 | 1023 | Fiscal | 2013 | Public Protection | ADP | ADP Adult Probation | 21 | Prof &amp; Tech Engineers - Miscellaneous, Local 21 | ⋯ | 26574 |  99944.00 | 0 | 0 |  99944.00 | 17700.03 | 12801.79 | 8311.72 | 38813.54 | 138757.54 |\n| 298167 | 1 | 1000 | 1031 | Fiscal | 2013 | Public Protection | ADP | ADP Adult Probation | 21 | Prof &amp; Tech Engineers - Miscellaneous, Local 21 | ⋯ |  8148 |  59585.91 | 0 | 0 |  59585.91 | 10850.65 | 12801.79 | 4461.25 | 28113.69 |  87699.60 |\n| 298168 | 1 | 1000 | 1054 | Fiscal | 2013 | Public Protection | ADP | ADP Adult Probation | 21 | Prof &amp; Tech Engineers - Miscellaneous, Local 21 | ⋯ | 27436 |  65100.00 | 0 | 0 |  65100.00 | 11529.18 |  8616.59 | 5139.40 | 25285.17 |  90385.17 |\n| 298169 | 1 | 1000 | 1070 | Fiscal | 2013 | Public Protection | ADP | ADP Adult Probation | 21 | Prof &amp; Tech Engineers - Miscellaneous, Local 21 | ⋯ | 51426 | 134251.77 | 0 | 0 | 134251.77 | 23775.87 | 12801.79 | 9733.22 | 46310.88 | 180562.65 |\n\n",
            "text/latex": "A data.frame: 5 × 22\n\\begin{tabular}{r|lllllllllllllllllllll}\n  & Organization.Group.Code & Job.Family.Code & Job.Code & Year.Type & Year & Organization.Group & Department.Code & Department & Union.Code & Union & ⋯ & Employee.Identifier & Salaries & Overtime & Other.Salaries & Total.Salary & Retirement & Health.and.Dental & Other.Benefits & Total.Benefits & Total.Compensation\\\\\n  & <int> & <chr> & <chr> & <chr> & <int> & <chr> & <chr> & <chr> & <int> & <chr> & ⋯ & <int> & <dbl> & <dbl> & <dbl> & <dbl> & <dbl> & <dbl> & <dbl> & <dbl> & <dbl>\\\\\n\\hline\n\t298165 & 1 & 1000 & 1021 & Fiscal & 2013 & Public Protection & ADP & ADP Adult Probation & 21 & Prof \\& Tech Engineers - Miscellaneous, Local 21 & ⋯ & 37730 &  58368.56 & 0 & 0 &  58368.56 & 10628.94 & 12801.79 & 5254.13 & 28684.86 &  87053.42\\\\\n\t298166 & 1 & 1000 & 1023 & Fiscal & 2013 & Public Protection & ADP & ADP Adult Probation & 21 & Prof \\& Tech Engineers - Miscellaneous, Local 21 & ⋯ & 26574 &  99944.00 & 0 & 0 &  99944.00 & 17700.03 & 12801.79 & 8311.72 & 38813.54 & 138757.54\\\\\n\t298167 & 1 & 1000 & 1031 & Fiscal & 2013 & Public Protection & ADP & ADP Adult Probation & 21 & Prof \\& Tech Engineers - Miscellaneous, Local 21 & ⋯ &  8148 &  59585.91 & 0 & 0 &  59585.91 & 10850.65 & 12801.79 & 4461.25 & 28113.69 &  87699.60\\\\\n\t298168 & 1 & 1000 & 1054 & Fiscal & 2013 & Public Protection & ADP & ADP Adult Probation & 21 & Prof \\& Tech Engineers - Miscellaneous, Local 21 & ⋯ & 27436 &  65100.00 & 0 & 0 &  65100.00 & 11529.18 &  8616.59 & 5139.40 & 25285.17 &  90385.17\\\\\n\t298169 & 1 & 1000 & 1070 & Fiscal & 2013 & Public Protection & ADP & ADP Adult Probation & 21 & Prof \\& Tech Engineers - Miscellaneous, Local 21 & ⋯ & 51426 & 134251.77 & 0 & 0 & 134251.77 & 23775.87 & 12801.79 & 9733.22 & 46310.88 & 180562.65\\\\\n\\end{tabular}\n",
            "text/plain": [
              "       Organization.Group.Code Job.Family.Code Job.Code Year.Type Year\n",
              "298165 1                       1000            1021     Fiscal    2013\n",
              "298166 1                       1000            1023     Fiscal    2013\n",
              "298167 1                       1000            1031     Fiscal    2013\n",
              "298168 1                       1000            1054     Fiscal    2013\n",
              "298169 1                       1000            1070     Fiscal    2013\n",
              "       Organization.Group Department.Code Department          Union.Code\n",
              "298165 Public Protection  ADP             ADP Adult Probation 21        \n",
              "298166 Public Protection  ADP             ADP Adult Probation 21        \n",
              "298167 Public Protection  ADP             ADP Adult Probation 21        \n",
              "298168 Public Protection  ADP             ADP Adult Probation 21        \n",
              "298169 Public Protection  ADP             ADP Adult Probation 21        \n",
              "       Union                                           ⋯ Employee.Identifier\n",
              "298165 Prof & Tech Engineers - Miscellaneous, Local 21 ⋯ 37730              \n",
              "298166 Prof & Tech Engineers - Miscellaneous, Local 21 ⋯ 26574              \n",
              "298167 Prof & Tech Engineers - Miscellaneous, Local 21 ⋯  8148              \n",
              "298168 Prof & Tech Engineers - Miscellaneous, Local 21 ⋯ 27436              \n",
              "298169 Prof & Tech Engineers - Miscellaneous, Local 21 ⋯ 51426              \n",
              "       Salaries  Overtime Other.Salaries Total.Salary Retirement\n",
              "298165  58368.56 0        0               58368.56    10628.94  \n",
              "298166  99944.00 0        0               99944.00    17700.03  \n",
              "298167  59585.91 0        0               59585.91    10850.65  \n",
              "298168  65100.00 0        0               65100.00    11529.18  \n",
              "298169 134251.77 0        0              134251.77    23775.87  \n",
              "       Health.and.Dental Other.Benefits Total.Benefits Total.Compensation\n",
              "298165 12801.79          5254.13        28684.86        87053.42         \n",
              "298166 12801.79          8311.72        38813.54       138757.54         \n",
              "298167 12801.79          4461.25        28113.69        87699.60         \n",
              "298168  8616.59          5139.40        25285.17        90385.17         \n",
              "298169 12801.79          9733.22        46310.88       180562.65         "
            ]
          },
          "metadata": {}
        }
      ]
    },
    {
      "cell_type": "markdown",
      "source": [
        "2.2 Summary of the Data"
      ],
      "metadata": {
        "id": "3XuFwpp3icLL"
      }
    },
    {
      "cell_type": "code",
      "source": [
        "summary(sf.data)\n"
      ],
      "metadata": {
        "colab": {
          "base_uri": "https://localhost:8080/",
          "height": 850
        },
        "id": "caHT6J9Yigem",
        "outputId": "cc780e01-25b7-4a2a-d538-cb455f52f125"
      },
      "execution_count": 9,
      "outputs": [
        {
          "output_type": "display_data",
          "data": {
            "text/plain": [
              " Organization.Group.Code Job.Family.Code      Job.Code        \n",
              " Min.   :1.000           Length:385113      Length:385113     \n",
              " 1st Qu.:2.000           Class :character   Class :character  \n",
              " Median :2.000           Mode  :character   Mode  :character  \n",
              " Mean   :2.981                                                \n",
              " 3rd Qu.:4.000                                                \n",
              " Max.   :7.000                                                \n",
              "                                                              \n",
              "  Year.Type              Year      Organization.Group Department.Code   \n",
              " Length:385113      Min.   :2013   Length:385113      Length:385113     \n",
              " Class :character   1st Qu.:2015   Class :character   Class :character  \n",
              " Mode  :character   Median :2017   Mode  :character   Mode  :character  \n",
              "                    Mean   :2017                                        \n",
              "                    3rd Qu.:2018                                        \n",
              "                    Max.   :2020                                        \n",
              "                                                                        \n",
              "  Department          Union.Code       Union            Job.Family       \n",
              " Length:385113      Min.   :  1.0   Length:385113      Length:385113     \n",
              " Class :character   1st Qu.:250.0   Class :character   Class :character  \n",
              " Mode  :character   Median :535.0   Mode  :character   Mode  :character  \n",
              "                    Mean   :493.4                                        \n",
              "                    3rd Qu.:790.0                                        \n",
              "                    Max.   :990.0                                        \n",
              "                    NA's   :215                                          \n",
              "     Job            Employee.Identifier    Salaries         Overtime     \n",
              " Length:385113      Min.   :       0    Min.   :-68772   Min.   :-12309  \n",
              " Class :character   1st Qu.:   25685    1st Qu.: 28479   1st Qu.:     0  \n",
              " Mode  :character   Median :   51444    Median : 67984   Median :     0  \n",
              "                    Mean   :17333923    Mean   : 69447   Mean   :  5464  \n",
              "                    3rd Qu.:37305598    3rd Qu.:100593   3rd Qu.:  4226  \n",
              "                    Max.   :44346433    Max.   :651937   Max.   :321523  \n",
              "                                                                         \n",
              " Other.Salaries    Total.Salary      Retirement     Health.and.Dental\n",
              " Min.   :-19131   Min.   :-68772   Min.   :-28723   Min.   :-2940    \n",
              " 1st Qu.:     0   1st Qu.: 31168   1st Qu.:  4440   1st Qu.: 4711    \n",
              " Median :   701   Median : 74896   Median : 13837   Median :12513    \n",
              " Mean   :  3810   Mean   : 78529   Mean   : 13611   Mean   : 9949    \n",
              " 3rd Qu.:  4332   3rd Qu.:112726   3rd Qu.: 20121   3rd Qu.:13962    \n",
              " Max.   :560099   Max.   :658868   Max.   :121953   Max.   :52147    \n",
              "                                                                     \n",
              " Other.Benefits  Total.Benefits   Total.Compensation\n",
              " Min.   :-9858   Min.   :-19814   Min.   :-74083    \n",
              " 1st Qu.: 1849   1st Qu.: 11399   1st Qu.: 43650    \n",
              " Median : 4877   Median : 32493   Median :107545    \n",
              " Mean   : 5038   Mean   : 28599   Mean   :107128    \n",
              " 3rd Qu.: 7528   3rd Qu.: 40903   3rd Qu.:154257    \n",
              " Max.   :36815   Max.   :151645   Max.   :807625    \n",
              "                                                    "
            ]
          },
          "metadata": {}
        }
      ]
    },
    {
      "cell_type": "markdown",
      "source": [
        "2.3. First 5 Rows of the Data"
      ],
      "metadata": {
        "id": "AYu1SV03ik6o"
      }
    },
    {
      "cell_type": "code",
      "source": [
        "head(sf.data)"
      ],
      "metadata": {
        "colab": {
          "base_uri": "https://localhost:8080/",
          "height": 618
        },
        "id": "u_ATLeZOjfyV",
        "outputId": "83931fdc-fd99-465f-8059-b149b3d43e85"
      },
      "execution_count": 10,
      "outputs": [
        {
          "output_type": "display_data",
          "data": {
            "text/html": [
              "<table class=\"dataframe\">\n",
              "<caption>A data.frame: 6 × 22</caption>\n",
              "<thead>\n",
              "\t<tr><th></th><th scope=col>Organization.Group.Code</th><th scope=col>Job.Family.Code</th><th scope=col>Job.Code</th><th scope=col>Year.Type</th><th scope=col>Year</th><th scope=col>Organization.Group</th><th scope=col>Department.Code</th><th scope=col>Department</th><th scope=col>Union.Code</th><th scope=col>Union</th><th scope=col>⋯</th><th scope=col>Employee.Identifier</th><th scope=col>Salaries</th><th scope=col>Overtime</th><th scope=col>Other.Salaries</th><th scope=col>Total.Salary</th><th scope=col>Retirement</th><th scope=col>Health.and.Dental</th><th scope=col>Other.Benefits</th><th scope=col>Total.Benefits</th><th scope=col>Total.Compensation</th></tr>\n",
              "\t<tr><th></th><th scope=col>&lt;int&gt;</th><th scope=col>&lt;chr&gt;</th><th scope=col>&lt;chr&gt;</th><th scope=col>&lt;chr&gt;</th><th scope=col>&lt;int&gt;</th><th scope=col>&lt;chr&gt;</th><th scope=col>&lt;chr&gt;</th><th scope=col>&lt;chr&gt;</th><th scope=col>&lt;int&gt;</th><th scope=col>&lt;chr&gt;</th><th scope=col>⋯</th><th scope=col>&lt;int&gt;</th><th scope=col>&lt;dbl&gt;</th><th scope=col>&lt;dbl&gt;</th><th scope=col>&lt;dbl&gt;</th><th scope=col>&lt;dbl&gt;</th><th scope=col>&lt;dbl&gt;</th><th scope=col>&lt;dbl&gt;</th><th scope=col>&lt;dbl&gt;</th><th scope=col>&lt;dbl&gt;</th><th scope=col>&lt;dbl&gt;</th></tr>\n",
              "</thead>\n",
              "<tbody>\n",
              "\t<tr><th scope=row>298165</th><td>1</td><td>1000</td><td>1021</td><td>Fiscal</td><td>2013</td><td>Public Protection</td><td>ADP</td><td>ADP Adult Probation</td><td>21</td><td>Prof &amp; Tech Engineers - Miscellaneous, Local 21</td><td>⋯</td><td>37730</td><td> 58368.56</td><td>0</td><td>0</td><td> 58368.56</td><td>10628.94</td><td>12801.79</td><td>5254.13</td><td>28684.86</td><td> 87053.42</td></tr>\n",
              "\t<tr><th scope=row>298166</th><td>1</td><td>1000</td><td>1023</td><td>Fiscal</td><td>2013</td><td>Public Protection</td><td>ADP</td><td>ADP Adult Probation</td><td>21</td><td>Prof &amp; Tech Engineers - Miscellaneous, Local 21</td><td>⋯</td><td>26574</td><td> 99944.00</td><td>0</td><td>0</td><td> 99944.00</td><td>17700.03</td><td>12801.79</td><td>8311.72</td><td>38813.54</td><td>138757.54</td></tr>\n",
              "\t<tr><th scope=row>298167</th><td>1</td><td>1000</td><td>1031</td><td>Fiscal</td><td>2013</td><td>Public Protection</td><td>ADP</td><td>ADP Adult Probation</td><td>21</td><td>Prof &amp; Tech Engineers - Miscellaneous, Local 21</td><td>⋯</td><td> 8148</td><td> 59585.91</td><td>0</td><td>0</td><td> 59585.91</td><td>10850.65</td><td>12801.79</td><td>4461.25</td><td>28113.69</td><td> 87699.60</td></tr>\n",
              "\t<tr><th scope=row>298168</th><td>1</td><td>1000</td><td>1054</td><td>Fiscal</td><td>2013</td><td>Public Protection</td><td>ADP</td><td>ADP Adult Probation</td><td>21</td><td>Prof &amp; Tech Engineers - Miscellaneous, Local 21</td><td>⋯</td><td>27436</td><td> 65100.00</td><td>0</td><td>0</td><td> 65100.00</td><td>11529.18</td><td> 8616.59</td><td>5139.40</td><td>25285.17</td><td> 90385.17</td></tr>\n",
              "\t<tr><th scope=row>298169</th><td>1</td><td>1000</td><td>1070</td><td>Fiscal</td><td>2013</td><td>Public Protection</td><td>ADP</td><td>ADP Adult Probation</td><td>21</td><td>Prof &amp; Tech Engineers - Miscellaneous, Local 21</td><td>⋯</td><td>51426</td><td>134251.77</td><td>0</td><td>0</td><td>134251.77</td><td>23775.87</td><td>12801.79</td><td>9733.22</td><td>46310.88</td><td>180562.65</td></tr>\n",
              "\t<tr><th scope=row>298170</th><td>1</td><td>1200</td><td>1232</td><td>Fiscal</td><td>2013</td><td>Public Protection</td><td>ADP</td><td>ADP Adult Probation</td><td>21</td><td>Prof &amp; Tech Engineers - Miscellaneous, Local 21</td><td>⋯</td><td>37983</td><td> 79407.01</td><td>0</td><td>0</td><td> 79407.01</td><td>14460.10</td><td>12801.79</td><td>6484.23</td><td>33746.12</td><td>113153.13</td></tr>\n",
              "</tbody>\n",
              "</table>\n"
            ],
            "text/markdown": "\nA data.frame: 6 × 22\n\n| <!--/--> | Organization.Group.Code &lt;int&gt; | Job.Family.Code &lt;chr&gt; | Job.Code &lt;chr&gt; | Year.Type &lt;chr&gt; | Year &lt;int&gt; | Organization.Group &lt;chr&gt; | Department.Code &lt;chr&gt; | Department &lt;chr&gt; | Union.Code &lt;int&gt; | Union &lt;chr&gt; | ⋯ ⋯ | Employee.Identifier &lt;int&gt; | Salaries &lt;dbl&gt; | Overtime &lt;dbl&gt; | Other.Salaries &lt;dbl&gt; | Total.Salary &lt;dbl&gt; | Retirement &lt;dbl&gt; | Health.and.Dental &lt;dbl&gt; | Other.Benefits &lt;dbl&gt; | Total.Benefits &lt;dbl&gt; | Total.Compensation &lt;dbl&gt; |\n|---|---|---|---|---|---|---|---|---|---|---|---|---|---|---|---|---|---|---|---|---|---|\n| 298165 | 1 | 1000 | 1021 | Fiscal | 2013 | Public Protection | ADP | ADP Adult Probation | 21 | Prof &amp; Tech Engineers - Miscellaneous, Local 21 | ⋯ | 37730 |  58368.56 | 0 | 0 |  58368.56 | 10628.94 | 12801.79 | 5254.13 | 28684.86 |  87053.42 |\n| 298166 | 1 | 1000 | 1023 | Fiscal | 2013 | Public Protection | ADP | ADP Adult Probation | 21 | Prof &amp; Tech Engineers - Miscellaneous, Local 21 | ⋯ | 26574 |  99944.00 | 0 | 0 |  99944.00 | 17700.03 | 12801.79 | 8311.72 | 38813.54 | 138757.54 |\n| 298167 | 1 | 1000 | 1031 | Fiscal | 2013 | Public Protection | ADP | ADP Adult Probation | 21 | Prof &amp; Tech Engineers - Miscellaneous, Local 21 | ⋯ |  8148 |  59585.91 | 0 | 0 |  59585.91 | 10850.65 | 12801.79 | 4461.25 | 28113.69 |  87699.60 |\n| 298168 | 1 | 1000 | 1054 | Fiscal | 2013 | Public Protection | ADP | ADP Adult Probation | 21 | Prof &amp; Tech Engineers - Miscellaneous, Local 21 | ⋯ | 27436 |  65100.00 | 0 | 0 |  65100.00 | 11529.18 |  8616.59 | 5139.40 | 25285.17 |  90385.17 |\n| 298169 | 1 | 1000 | 1070 | Fiscal | 2013 | Public Protection | ADP | ADP Adult Probation | 21 | Prof &amp; Tech Engineers - Miscellaneous, Local 21 | ⋯ | 51426 | 134251.77 | 0 | 0 | 134251.77 | 23775.87 | 12801.79 | 9733.22 | 46310.88 | 180562.65 |\n| 298170 | 1 | 1200 | 1232 | Fiscal | 2013 | Public Protection | ADP | ADP Adult Probation | 21 | Prof &amp; Tech Engineers - Miscellaneous, Local 21 | ⋯ | 37983 |  79407.01 | 0 | 0 |  79407.01 | 14460.10 | 12801.79 | 6484.23 | 33746.12 | 113153.13 |\n\n",
            "text/latex": "A data.frame: 6 × 22\n\\begin{tabular}{r|lllllllllllllllllllll}\n  & Organization.Group.Code & Job.Family.Code & Job.Code & Year.Type & Year & Organization.Group & Department.Code & Department & Union.Code & Union & ⋯ & Employee.Identifier & Salaries & Overtime & Other.Salaries & Total.Salary & Retirement & Health.and.Dental & Other.Benefits & Total.Benefits & Total.Compensation\\\\\n  & <int> & <chr> & <chr> & <chr> & <int> & <chr> & <chr> & <chr> & <int> & <chr> & ⋯ & <int> & <dbl> & <dbl> & <dbl> & <dbl> & <dbl> & <dbl> & <dbl> & <dbl> & <dbl>\\\\\n\\hline\n\t298165 & 1 & 1000 & 1021 & Fiscal & 2013 & Public Protection & ADP & ADP Adult Probation & 21 & Prof \\& Tech Engineers - Miscellaneous, Local 21 & ⋯ & 37730 &  58368.56 & 0 & 0 &  58368.56 & 10628.94 & 12801.79 & 5254.13 & 28684.86 &  87053.42\\\\\n\t298166 & 1 & 1000 & 1023 & Fiscal & 2013 & Public Protection & ADP & ADP Adult Probation & 21 & Prof \\& Tech Engineers - Miscellaneous, Local 21 & ⋯ & 26574 &  99944.00 & 0 & 0 &  99944.00 & 17700.03 & 12801.79 & 8311.72 & 38813.54 & 138757.54\\\\\n\t298167 & 1 & 1000 & 1031 & Fiscal & 2013 & Public Protection & ADP & ADP Adult Probation & 21 & Prof \\& Tech Engineers - Miscellaneous, Local 21 & ⋯ &  8148 &  59585.91 & 0 & 0 &  59585.91 & 10850.65 & 12801.79 & 4461.25 & 28113.69 &  87699.60\\\\\n\t298168 & 1 & 1000 & 1054 & Fiscal & 2013 & Public Protection & ADP & ADP Adult Probation & 21 & Prof \\& Tech Engineers - Miscellaneous, Local 21 & ⋯ & 27436 &  65100.00 & 0 & 0 &  65100.00 & 11529.18 &  8616.59 & 5139.40 & 25285.17 &  90385.17\\\\\n\t298169 & 1 & 1000 & 1070 & Fiscal & 2013 & Public Protection & ADP & ADP Adult Probation & 21 & Prof \\& Tech Engineers - Miscellaneous, Local 21 & ⋯ & 51426 & 134251.77 & 0 & 0 & 134251.77 & 23775.87 & 12801.79 & 9733.22 & 46310.88 & 180562.65\\\\\n\t298170 & 1 & 1200 & 1232 & Fiscal & 2013 & Public Protection & ADP & ADP Adult Probation & 21 & Prof \\& Tech Engineers - Miscellaneous, Local 21 & ⋯ & 37983 &  79407.01 & 0 & 0 &  79407.01 & 14460.10 & 12801.79 & 6484.23 & 33746.12 & 113153.13\\\\\n\\end{tabular}\n",
            "text/plain": [
              "       Organization.Group.Code Job.Family.Code Job.Code Year.Type Year\n",
              "298165 1                       1000            1021     Fiscal    2013\n",
              "298166 1                       1000            1023     Fiscal    2013\n",
              "298167 1                       1000            1031     Fiscal    2013\n",
              "298168 1                       1000            1054     Fiscal    2013\n",
              "298169 1                       1000            1070     Fiscal    2013\n",
              "298170 1                       1200            1232     Fiscal    2013\n",
              "       Organization.Group Department.Code Department          Union.Code\n",
              "298165 Public Protection  ADP             ADP Adult Probation 21        \n",
              "298166 Public Protection  ADP             ADP Adult Probation 21        \n",
              "298167 Public Protection  ADP             ADP Adult Probation 21        \n",
              "298168 Public Protection  ADP             ADP Adult Probation 21        \n",
              "298169 Public Protection  ADP             ADP Adult Probation 21        \n",
              "298170 Public Protection  ADP             ADP Adult Probation 21        \n",
              "       Union                                           ⋯ Employee.Identifier\n",
              "298165 Prof & Tech Engineers - Miscellaneous, Local 21 ⋯ 37730              \n",
              "298166 Prof & Tech Engineers - Miscellaneous, Local 21 ⋯ 26574              \n",
              "298167 Prof & Tech Engineers - Miscellaneous, Local 21 ⋯  8148              \n",
              "298168 Prof & Tech Engineers - Miscellaneous, Local 21 ⋯ 27436              \n",
              "298169 Prof & Tech Engineers - Miscellaneous, Local 21 ⋯ 51426              \n",
              "298170 Prof & Tech Engineers - Miscellaneous, Local 21 ⋯ 37983              \n",
              "       Salaries  Overtime Other.Salaries Total.Salary Retirement\n",
              "298165  58368.56 0        0               58368.56    10628.94  \n",
              "298166  99944.00 0        0               99944.00    17700.03  \n",
              "298167  59585.91 0        0               59585.91    10850.65  \n",
              "298168  65100.00 0        0               65100.00    11529.18  \n",
              "298169 134251.77 0        0              134251.77    23775.87  \n",
              "298170  79407.01 0        0               79407.01    14460.10  \n",
              "       Health.and.Dental Other.Benefits Total.Benefits Total.Compensation\n",
              "298165 12801.79          5254.13        28684.86        87053.42         \n",
              "298166 12801.79          8311.72        38813.54       138757.54         \n",
              "298167 12801.79          4461.25        28113.69        87699.60         \n",
              "298168  8616.59          5139.40        25285.17        90385.17         \n",
              "298169 12801.79          9733.22        46310.88       180562.65         \n",
              "298170 12801.79          6484.23        33746.12       113153.13         "
            ]
          },
          "metadata": {}
        }
      ]
    },
    {
      "cell_type": "markdown",
      "source": [
        "2.4. Columns names of the Dataset"
      ],
      "metadata": {
        "id": "A3ggMUxijlKm"
      }
    },
    {
      "cell_type": "code",
      "source": [
        "colnames(sf.data)"
      ],
      "metadata": {
        "colab": {
          "base_uri": "https://localhost:8080/",
          "height": 52
        },
        "id": "OeZ-XqC7jtw0",
        "outputId": "97d92e76-82e7-49e8-dce0-a032a0895075"
      },
      "execution_count": 11,
      "outputs": [
        {
          "output_type": "display_data",
          "data": {
            "text/html": [
              "<style>\n",
              ".list-inline {list-style: none; margin:0; padding: 0}\n",
              ".list-inline>li {display: inline-block}\n",
              ".list-inline>li:not(:last-child)::after {content: \"\\00b7\"; padding: 0 .5ex}\n",
              "</style>\n",
              "<ol class=list-inline><li>'Organization.Group.Code'</li><li>'Job.Family.Code'</li><li>'Job.Code'</li><li>'Year.Type'</li><li>'Year'</li><li>'Organization.Group'</li><li>'Department.Code'</li><li>'Department'</li><li>'Union.Code'</li><li>'Union'</li><li>'Job.Family'</li><li>'Job'</li><li>'Employee.Identifier'</li><li>'Salaries'</li><li>'Overtime'</li><li>'Other.Salaries'</li><li>'Total.Salary'</li><li>'Retirement'</li><li>'Health.and.Dental'</li><li>'Other.Benefits'</li><li>'Total.Benefits'</li><li>'Total.Compensation'</li></ol>\n"
            ],
            "text/markdown": "1. 'Organization.Group.Code'\n2. 'Job.Family.Code'\n3. 'Job.Code'\n4. 'Year.Type'\n5. 'Year'\n6. 'Organization.Group'\n7. 'Department.Code'\n8. 'Department'\n9. 'Union.Code'\n10. 'Union'\n11. 'Job.Family'\n12. 'Job'\n13. 'Employee.Identifier'\n14. 'Salaries'\n15. 'Overtime'\n16. 'Other.Salaries'\n17. 'Total.Salary'\n18. 'Retirement'\n19. 'Health.and.Dental'\n20. 'Other.Benefits'\n21. 'Total.Benefits'\n22. 'Total.Compensation'\n\n\n",
            "text/latex": "\\begin{enumerate*}\n\\item 'Organization.Group.Code'\n\\item 'Job.Family.Code'\n\\item 'Job.Code'\n\\item 'Year.Type'\n\\item 'Year'\n\\item 'Organization.Group'\n\\item 'Department.Code'\n\\item 'Department'\n\\item 'Union.Code'\n\\item 'Union'\n\\item 'Job.Family'\n\\item 'Job'\n\\item 'Employee.Identifier'\n\\item 'Salaries'\n\\item 'Overtime'\n\\item 'Other.Salaries'\n\\item 'Total.Salary'\n\\item 'Retirement'\n\\item 'Health.and.Dental'\n\\item 'Other.Benefits'\n\\item 'Total.Benefits'\n\\item 'Total.Compensation'\n\\end{enumerate*}\n",
            "text/plain": [
              " [1] \"Organization.Group.Code\" \"Job.Family.Code\"        \n",
              " [3] \"Job.Code\"                \"Year.Type\"              \n",
              " [5] \"Year\"                    \"Organization.Group\"     \n",
              " [7] \"Department.Code\"         \"Department\"             \n",
              " [9] \"Union.Code\"              \"Union\"                  \n",
              "[11] \"Job.Family\"              \"Job\"                    \n",
              "[13] \"Employee.Identifier\"     \"Salaries\"               \n",
              "[15] \"Overtime\"                \"Other.Salaries\"         \n",
              "[17] \"Total.Salary\"            \"Retirement\"             \n",
              "[19] \"Health.and.Dental\"       \"Other.Benefits\"         \n",
              "[21] \"Total.Benefits\"          \"Total.Compensation\"     "
            ]
          },
          "metadata": {}
        }
      ]
    },
    {
      "cell_type": "markdown",
      "source": [
        "2.5. Last 5 Rows of the Data Set"
      ],
      "metadata": {
        "id": "Djo6zFR4kOIp"
      }
    },
    {
      "cell_type": "code",
      "source": [
        "tail(sf.data)"
      ],
      "metadata": {
        "colab": {
          "base_uri": "https://localhost:8080/",
          "height": 618
        },
        "id": "OgCgzWxUkdbm",
        "outputId": "6cf9630c-4222-490d-b754-bad63243b77a"
      },
      "execution_count": 12,
      "outputs": [
        {
          "output_type": "display_data",
          "data": {
            "text/html": [
              "<table class=\"dataframe\">\n",
              "<caption>A data.frame: 6 × 22</caption>\n",
              "<thead>\n",
              "\t<tr><th></th><th scope=col>Organization.Group.Code</th><th scope=col>Job.Family.Code</th><th scope=col>Job.Code</th><th scope=col>Year.Type</th><th scope=col>Year</th><th scope=col>Organization.Group</th><th scope=col>Department.Code</th><th scope=col>Department</th><th scope=col>Union.Code</th><th scope=col>Union</th><th scope=col>⋯</th><th scope=col>Employee.Identifier</th><th scope=col>Salaries</th><th scope=col>Overtime</th><th scope=col>Other.Salaries</th><th scope=col>Total.Salary</th><th scope=col>Retirement</th><th scope=col>Health.and.Dental</th><th scope=col>Other.Benefits</th><th scope=col>Total.Benefits</th><th scope=col>Total.Compensation</th></tr>\n",
              "\t<tr><th></th><th scope=col>&lt;int&gt;</th><th scope=col>&lt;chr&gt;</th><th scope=col>&lt;chr&gt;</th><th scope=col>&lt;chr&gt;</th><th scope=col>&lt;int&gt;</th><th scope=col>&lt;chr&gt;</th><th scope=col>&lt;chr&gt;</th><th scope=col>&lt;chr&gt;</th><th scope=col>&lt;int&gt;</th><th scope=col>&lt;chr&gt;</th><th scope=col>⋯</th><th scope=col>&lt;int&gt;</th><th scope=col>&lt;dbl&gt;</th><th scope=col>&lt;dbl&gt;</th><th scope=col>&lt;dbl&gt;</th><th scope=col>&lt;dbl&gt;</th><th scope=col>&lt;dbl&gt;</th><th scope=col>&lt;dbl&gt;</th><th scope=col>&lt;dbl&gt;</th><th scope=col>&lt;dbl&gt;</th><th scope=col>&lt;dbl&gt;</th></tr>\n",
              "</thead>\n",
              "<tbody>\n",
              "\t<tr><th scope=row>683272</th><td>6</td><td>4300</td><td>4334</td><td>Fiscal</td><td>2020</td><td>General Administration &amp; Finance</td><td>TTX</td><td>Treasurer/Tax Collector</td><td>790</td><td>SEIU, Local 1021, Misc</td><td>⋯</td><td>42444671</td><td>105738.31</td><td>303.6</td><td><span style=white-space:pre-wrap>  0</span></td><td>106041.91</td><td>22038.95</td><td>15451.43</td><td>8406.34</td><td>45896.72</td><td>151938.63</td></tr>\n",
              "\t<tr><th scope=row>683273</th><td>6</td><td>4300</td><td>4334</td><td>Fiscal</td><td>2020</td><td>General Administration &amp; Finance</td><td>TTX</td><td>Treasurer/Tax Collector</td><td>790</td><td>SEIU, Local 1021, Misc</td><td>⋯</td><td>43836214</td><td> 98444.94</td><td><span style=white-space:pre-wrap>  0.0</span></td><td><span style=white-space:pre-wrap>  0</span></td><td> 98444.94</td><td>20540.24</td><td>15275.18</td><td>8019.49</td><td>43834.91</td><td>142279.85</td></tr>\n",
              "\t<tr><th scope=row>683274</th><td>6</td><td>4300</td><td>4334</td><td>Fiscal</td><td>2020</td><td>General Administration &amp; Finance</td><td>TTX</td><td>Treasurer/Tax Collector</td><td>790</td><td>SEIU, Local 1021, Misc</td><td>⋯</td><td>43966403</td><td><span style=white-space:pre-wrap>  9416.71</span></td><td><span style=white-space:pre-wrap>  0.0</span></td><td><span style=white-space:pre-wrap>  0</span></td><td><span style=white-space:pre-wrap>  9416.71</span></td><td> 1904.43</td><td> 1468.77</td><td> 743.51</td><td> 4116.71</td><td> 13533.42</td></tr>\n",
              "\t<tr><th scope=row>683275</th><td>6</td><td>4300</td><td>4334</td><td>Fiscal</td><td>2020</td><td>General Administration &amp; Finance</td><td>TTX</td><td>Treasurer/Tax Collector</td><td>790</td><td>SEIU, Local 1021, Misc</td><td>⋯</td><td>44016180</td><td> 96475.00</td><td><span style=white-space:pre-wrap>  0.0</span></td><td>576</td><td> 97051.00</td><td>20241.56</td><td>14100.16</td><td>7897.00</td><td>42238.72</td><td>139289.72</td></tr>\n",
              "\t<tr><th scope=row>683276</th><td>6</td><td>4300</td><td>4337</td><td>Fiscal</td><td>2020</td><td>General Administration &amp; Finance</td><td>TTX</td><td>Treasurer/Tax Collector</td><td>790</td><td>SEIU, Local 1021, Misc</td><td>⋯</td><td>42423439</td><td>115943.00</td><td><span style=white-space:pre-wrap>  0.0</span></td><td><span style=white-space:pre-wrap>  0</span></td><td>115943.00</td><td>24188.37</td><td>15275.18</td><td>9018.34</td><td>48481.89</td><td>164424.89</td></tr>\n",
              "\t<tr><th scope=row>683277</th><td>6</td><td>4300</td><td>4337</td><td>Fiscal</td><td>2020</td><td>General Administration &amp; Finance</td><td>TTX</td><td>Treasurer/Tax Collector</td><td>790</td><td>SEIU, Local 1021, Misc</td><td>⋯</td><td>42439576</td><td>115943.00</td><td>504.9</td><td><span style=white-space:pre-wrap>  0</span></td><td>116447.90</td><td>24188.37</td><td>15275.18</td><td>9516.61</td><td>48980.16</td><td>165428.06</td></tr>\n",
              "</tbody>\n",
              "</table>\n"
            ],
            "text/markdown": "\nA data.frame: 6 × 22\n\n| <!--/--> | Organization.Group.Code &lt;int&gt; | Job.Family.Code &lt;chr&gt; | Job.Code &lt;chr&gt; | Year.Type &lt;chr&gt; | Year &lt;int&gt; | Organization.Group &lt;chr&gt; | Department.Code &lt;chr&gt; | Department &lt;chr&gt; | Union.Code &lt;int&gt; | Union &lt;chr&gt; | ⋯ ⋯ | Employee.Identifier &lt;int&gt; | Salaries &lt;dbl&gt; | Overtime &lt;dbl&gt; | Other.Salaries &lt;dbl&gt; | Total.Salary &lt;dbl&gt; | Retirement &lt;dbl&gt; | Health.and.Dental &lt;dbl&gt; | Other.Benefits &lt;dbl&gt; | Total.Benefits &lt;dbl&gt; | Total.Compensation &lt;dbl&gt; |\n|---|---|---|---|---|---|---|---|---|---|---|---|---|---|---|---|---|---|---|---|---|---|\n| 683272 | 6 | 4300 | 4334 | Fiscal | 2020 | General Administration &amp; Finance | TTX | Treasurer/Tax Collector | 790 | SEIU, Local 1021, Misc | ⋯ | 42444671 | 105738.31 | 303.6 |   0 | 106041.91 | 22038.95 | 15451.43 | 8406.34 | 45896.72 | 151938.63 |\n| 683273 | 6 | 4300 | 4334 | Fiscal | 2020 | General Administration &amp; Finance | TTX | Treasurer/Tax Collector | 790 | SEIU, Local 1021, Misc | ⋯ | 43836214 |  98444.94 |   0.0 |   0 |  98444.94 | 20540.24 | 15275.18 | 8019.49 | 43834.91 | 142279.85 |\n| 683274 | 6 | 4300 | 4334 | Fiscal | 2020 | General Administration &amp; Finance | TTX | Treasurer/Tax Collector | 790 | SEIU, Local 1021, Misc | ⋯ | 43966403 |   9416.71 |   0.0 |   0 |   9416.71 |  1904.43 |  1468.77 |  743.51 |  4116.71 |  13533.42 |\n| 683275 | 6 | 4300 | 4334 | Fiscal | 2020 | General Administration &amp; Finance | TTX | Treasurer/Tax Collector | 790 | SEIU, Local 1021, Misc | ⋯ | 44016180 |  96475.00 |   0.0 | 576 |  97051.00 | 20241.56 | 14100.16 | 7897.00 | 42238.72 | 139289.72 |\n| 683276 | 6 | 4300 | 4337 | Fiscal | 2020 | General Administration &amp; Finance | TTX | Treasurer/Tax Collector | 790 | SEIU, Local 1021, Misc | ⋯ | 42423439 | 115943.00 |   0.0 |   0 | 115943.00 | 24188.37 | 15275.18 | 9018.34 | 48481.89 | 164424.89 |\n| 683277 | 6 | 4300 | 4337 | Fiscal | 2020 | General Administration &amp; Finance | TTX | Treasurer/Tax Collector | 790 | SEIU, Local 1021, Misc | ⋯ | 42439576 | 115943.00 | 504.9 |   0 | 116447.90 | 24188.37 | 15275.18 | 9516.61 | 48980.16 | 165428.06 |\n\n",
            "text/latex": "A data.frame: 6 × 22\n\\begin{tabular}{r|lllllllllllllllllllll}\n  & Organization.Group.Code & Job.Family.Code & Job.Code & Year.Type & Year & Organization.Group & Department.Code & Department & Union.Code & Union & ⋯ & Employee.Identifier & Salaries & Overtime & Other.Salaries & Total.Salary & Retirement & Health.and.Dental & Other.Benefits & Total.Benefits & Total.Compensation\\\\\n  & <int> & <chr> & <chr> & <chr> & <int> & <chr> & <chr> & <chr> & <int> & <chr> & ⋯ & <int> & <dbl> & <dbl> & <dbl> & <dbl> & <dbl> & <dbl> & <dbl> & <dbl> & <dbl>\\\\\n\\hline\n\t683272 & 6 & 4300 & 4334 & Fiscal & 2020 & General Administration \\& Finance & TTX & Treasurer/Tax Collector & 790 & SEIU, Local 1021, Misc & ⋯ & 42444671 & 105738.31 & 303.6 &   0 & 106041.91 & 22038.95 & 15451.43 & 8406.34 & 45896.72 & 151938.63\\\\\n\t683273 & 6 & 4300 & 4334 & Fiscal & 2020 & General Administration \\& Finance & TTX & Treasurer/Tax Collector & 790 & SEIU, Local 1021, Misc & ⋯ & 43836214 &  98444.94 &   0.0 &   0 &  98444.94 & 20540.24 & 15275.18 & 8019.49 & 43834.91 & 142279.85\\\\\n\t683274 & 6 & 4300 & 4334 & Fiscal & 2020 & General Administration \\& Finance & TTX & Treasurer/Tax Collector & 790 & SEIU, Local 1021, Misc & ⋯ & 43966403 &   9416.71 &   0.0 &   0 &   9416.71 &  1904.43 &  1468.77 &  743.51 &  4116.71 &  13533.42\\\\\n\t683275 & 6 & 4300 & 4334 & Fiscal & 2020 & General Administration \\& Finance & TTX & Treasurer/Tax Collector & 790 & SEIU, Local 1021, Misc & ⋯ & 44016180 &  96475.00 &   0.0 & 576 &  97051.00 & 20241.56 & 14100.16 & 7897.00 & 42238.72 & 139289.72\\\\\n\t683276 & 6 & 4300 & 4337 & Fiscal & 2020 & General Administration \\& Finance & TTX & Treasurer/Tax Collector & 790 & SEIU, Local 1021, Misc & ⋯ & 42423439 & 115943.00 &   0.0 &   0 & 115943.00 & 24188.37 & 15275.18 & 9018.34 & 48481.89 & 164424.89\\\\\n\t683277 & 6 & 4300 & 4337 & Fiscal & 2020 & General Administration \\& Finance & TTX & Treasurer/Tax Collector & 790 & SEIU, Local 1021, Misc & ⋯ & 42439576 & 115943.00 & 504.9 &   0 & 116447.90 & 24188.37 & 15275.18 & 9516.61 & 48980.16 & 165428.06\\\\\n\\end{tabular}\n",
            "text/plain": [
              "       Organization.Group.Code Job.Family.Code Job.Code Year.Type Year\n",
              "683272 6                       4300            4334     Fiscal    2020\n",
              "683273 6                       4300            4334     Fiscal    2020\n",
              "683274 6                       4300            4334     Fiscal    2020\n",
              "683275 6                       4300            4334     Fiscal    2020\n",
              "683276 6                       4300            4337     Fiscal    2020\n",
              "683277 6                       4300            4337     Fiscal    2020\n",
              "       Organization.Group               Department.Code Department             \n",
              "683272 General Administration & Finance TTX             Treasurer/Tax Collector\n",
              "683273 General Administration & Finance TTX             Treasurer/Tax Collector\n",
              "683274 General Administration & Finance TTX             Treasurer/Tax Collector\n",
              "683275 General Administration & Finance TTX             Treasurer/Tax Collector\n",
              "683276 General Administration & Finance TTX             Treasurer/Tax Collector\n",
              "683277 General Administration & Finance TTX             Treasurer/Tax Collector\n",
              "       Union.Code Union                  ⋯ Employee.Identifier Salaries \n",
              "683272 790        SEIU, Local 1021, Misc ⋯ 42444671            105738.31\n",
              "683273 790        SEIU, Local 1021, Misc ⋯ 43836214             98444.94\n",
              "683274 790        SEIU, Local 1021, Misc ⋯ 43966403              9416.71\n",
              "683275 790        SEIU, Local 1021, Misc ⋯ 44016180             96475.00\n",
              "683276 790        SEIU, Local 1021, Misc ⋯ 42423439            115943.00\n",
              "683277 790        SEIU, Local 1021, Misc ⋯ 42439576            115943.00\n",
              "       Overtime Other.Salaries Total.Salary Retirement Health.and.Dental\n",
              "683272 303.6      0            106041.91    22038.95   15451.43         \n",
              "683273   0.0      0             98444.94    20540.24   15275.18         \n",
              "683274   0.0      0              9416.71     1904.43    1468.77         \n",
              "683275   0.0    576             97051.00    20241.56   14100.16         \n",
              "683276   0.0      0            115943.00    24188.37   15275.18         \n",
              "683277 504.9      0            116447.90    24188.37   15275.18         \n",
              "       Other.Benefits Total.Benefits Total.Compensation\n",
              "683272 8406.34        45896.72       151938.63         \n",
              "683273 8019.49        43834.91       142279.85         \n",
              "683274  743.51         4116.71        13533.42         \n",
              "683275 7897.00        42238.72       139289.72         \n",
              "683276 9018.34        48481.89       164424.89         \n",
              "683277 9516.61        48980.16       165428.06         "
            ]
          },
          "metadata": {}
        }
      ]
    },
    {
      "cell_type": "markdown",
      "source": [
        "Adding library dplyr\n",
        "Adding library tidyverse\n",
        "2.6. Getting the Glimpse of the Dataset"
      ],
      "metadata": {
        "id": "a-iO_NqSko3p"
      }
    },
    {
      "cell_type": "code",
      "source": [
        "library(tidyverse)\n",
        "\n",
        "library(dplyr)\n",
        "glimpse(sf.data)"
      ],
      "metadata": {
        "colab": {
          "base_uri": "https://localhost:8080/"
        },
        "id": "FUVNWZ7PmPoQ",
        "outputId": "179e7918-a41d-44eb-d032-0120c36e717c"
      },
      "execution_count": 13,
      "outputs": [
        {
          "output_type": "stream",
          "name": "stderr",
          "text": [
            "── \u001b[1mAttaching core tidyverse packages\u001b[22m ──────────────────────── tidyverse 2.0.0 ──\n",
            "\u001b[32m✔\u001b[39m \u001b[34mdplyr    \u001b[39m 1.1.2     \u001b[32m✔\u001b[39m \u001b[34mreadr    \u001b[39m 2.1.4\n",
            "\u001b[32m✔\u001b[39m \u001b[34mforcats  \u001b[39m 1.0.0     \u001b[32m✔\u001b[39m \u001b[34mstringr  \u001b[39m 1.5.0\n",
            "\u001b[32m✔\u001b[39m \u001b[34mggplot2  \u001b[39m 3.4.3     \u001b[32m✔\u001b[39m \u001b[34mtibble   \u001b[39m 3.2.1\n",
            "\u001b[32m✔\u001b[39m \u001b[34mlubridate\u001b[39m 1.9.2     \u001b[32m✔\u001b[39m \u001b[34mtidyr    \u001b[39m 1.3.0\n",
            "\u001b[32m✔\u001b[39m \u001b[34mpurrr    \u001b[39m 1.0.2     \n",
            "── \u001b[1mConflicts\u001b[22m ────────────────────────────────────────── tidyverse_conflicts() ──\n",
            "\u001b[31m✖\u001b[39m \u001b[34mdplyr\u001b[39m::\u001b[32mfilter()\u001b[39m masks \u001b[34mstats\u001b[39m::filter()\n",
            "\u001b[31m✖\u001b[39m \u001b[34mdplyr\u001b[39m::\u001b[32mlag()\u001b[39m    masks \u001b[34mstats\u001b[39m::lag()\n",
            "\u001b[36mℹ\u001b[39m Use the conflicted package (\u001b[3m\u001b[34m<http://conflicted.r-lib.org/>\u001b[39m\u001b[23m) to force all conflicts to become errors\n"
          ]
        },
        {
          "output_type": "stream",
          "name": "stdout",
          "text": [
            "Rows: 385,113\n",
            "Columns: 22\n",
            "$ Organization.Group.Code \u001b[3m\u001b[90m<int>\u001b[39m\u001b[23m 1, 1, 1, 1, 1, 1, 1, 1, 1, 1, 1, 1, 1, 1, 1, 1…\n",
            "$ Job.Family.Code         \u001b[3m\u001b[90m<chr>\u001b[39m\u001b[23m \"1000\", \"1000\", \"1000\", \"1000\", \"1000\", \"1200\"…\n",
            "$ Job.Code                \u001b[3m\u001b[90m<chr>\u001b[39m\u001b[23m \"1021\", \"1023\", \"1031\", \"1054\", \"1070\", \"1232\"…\n",
            "$ Year.Type               \u001b[3m\u001b[90m<chr>\u001b[39m\u001b[23m \"Fiscal\", \"Fiscal\", \"Fiscal\", \"Fiscal\", \"Fisca…\n",
            "$ Year                    \u001b[3m\u001b[90m<int>\u001b[39m\u001b[23m 2013, 2013, 2013, 2013, 2013, 2013, 2013, 2013…\n",
            "$ Organization.Group      \u001b[3m\u001b[90m<chr>\u001b[39m\u001b[23m \"Public Protection\", \"Public Protection\", \"Pub…\n",
            "$ Department.Code         \u001b[3m\u001b[90m<chr>\u001b[39m\u001b[23m \"ADP\", \"ADP\", \"ADP\", \"ADP\", \"ADP\", \"ADP\", \"ADP…\n",
            "$ Department              \u001b[3m\u001b[90m<chr>\u001b[39m\u001b[23m \"ADP Adult Probation\", \"ADP Adult Probation\", …\n",
            "$ Union.Code              \u001b[3m\u001b[90m<int>\u001b[39m\u001b[23m 21, 21, 21, 21, 21, 21, 21, 21, 21, 21, 21, 21…\n",
            "$ Union                   \u001b[3m\u001b[90m<chr>\u001b[39m\u001b[23m \"Prof & Tech Engineers - Miscellaneous, Local …\n",
            "$ Job.Family              \u001b[3m\u001b[90m<chr>\u001b[39m\u001b[23m \"Information Systems\", \"Information Systems\", …\n",
            "$ Job                     \u001b[3m\u001b[90m<chr>\u001b[39m\u001b[23m \"IS Administrator 1\", \"IS Administrator 3\", \"I…\n",
            "$ Employee.Identifier     \u001b[3m\u001b[90m<int>\u001b[39m\u001b[23m 37730, 26574, 8148, 27436, 51426, 37983, 16858…\n",
            "$ Salaries                \u001b[3m\u001b[90m<dbl>\u001b[39m\u001b[23m 58368.56, 99944.00, 59585.91, 65100.00, 134251…\n",
            "$ Overtime                \u001b[3m\u001b[90m<dbl>\u001b[39m\u001b[23m 0, 0, 0, 0, 0, 0, 0, 0, 0, 0, 0, 0, 0, 0, 0, 0…\n",
            "$ Other.Salaries          \u001b[3m\u001b[90m<dbl>\u001b[39m\u001b[23m 0, 0, 0, 0, 0, 0, 0, 0, 0, 0, 0, 0, 0, 0, 0, 0…\n",
            "$ Total.Salary            \u001b[3m\u001b[90m<dbl>\u001b[39m\u001b[23m 58368.56, 99944.00, 59585.91, 65100.00, 134251…\n",
            "$ Retirement              \u001b[3m\u001b[90m<dbl>\u001b[39m\u001b[23m 10628.94, 17700.03, 10850.65, 11529.18, 23775.…\n",
            "$ Health.and.Dental       \u001b[3m\u001b[90m<dbl>\u001b[39m\u001b[23m 12801.79, 12801.79, 12801.79, 8616.59, 12801.7…\n",
            "$ Other.Benefits          \u001b[3m\u001b[90m<dbl>\u001b[39m\u001b[23m 5254.13, 8311.72, 4461.25, 5139.40, 9733.22, 6…\n",
            "$ Total.Benefits          \u001b[3m\u001b[90m<dbl>\u001b[39m\u001b[23m 28684.86, 38813.54, 28113.69, 25285.17, 46310.…\n",
            "$ Total.Compensation      \u001b[3m\u001b[90m<dbl>\u001b[39m\u001b[23m 87053.42, 138757.54, 87699.60, 90385.17, 18056…\n"
          ]
        }
      ]
    },
    {
      "cell_type": "markdown",
      "source": [
        "#3.*Subsets of the Dataset*"
      ],
      "metadata": {
        "id": "0tNBgOdanA37"
      }
    },
    {
      "cell_type": "markdown",
      "source": [
        "The following Subset contains information about Salaries,Overtime,Retirement,Health.and.Dental which will help in analyzing condition in SF"
      ],
      "metadata": {
        "id": "i5cuMPbkn4Gb"
      }
    },
    {
      "cell_type": "markdown",
      "source": [
        "3.1. Calculating top 10 the highest salary for year 2020"
      ],
      "metadata": {
        "id": "T7jzI2lvBv60"
      }
    },
    {
      "cell_type": "code",
      "source": [
        "#Counting highest salary\n",
        "sf_salary <- sf.data[c('Year', 'Job','Salaries')]\n",
        "sf_salary_1 <- sf_salary %>% group_by('Job') %>% arrange(desc(Salaries))\n",
        "sf_salary_1 <- sf_salary_1[sf_salary_1$Year == \"2020\",]%>% head(n=10)\n",
        "#sf_salary_1 %>% head(n=10)\n",
        "\n",
        "sf_salary_1[4] <- NULL\n",
        "\n",
        "sf_salary_1"
      ],
      "metadata": {
        "colab": {
          "base_uri": "https://localhost:8080/",
          "height": 411
        },
        "id": "ys7XFa9kxEDZ",
        "outputId": "f20ba528-9c89-4e72-a83b-4ff968b9ec87"
      },
      "execution_count": 174,
      "outputs": [
        {
          "output_type": "display_data",
          "data": {
            "text/html": [
              "<table class=\"dataframe\">\n",
              "<caption>A tibble: 10 × 3</caption>\n",
              "<thead>\n",
              "\t<tr><th scope=col>Year</th><th scope=col>Job</th><th scope=col>Salaries</th></tr>\n",
              "\t<tr><th scope=col>&lt;int&gt;</th><th scope=col>&lt;chr&gt;</th><th scope=col>&lt;dbl&gt;</th></tr>\n",
              "</thead>\n",
              "<tbody>\n",
              "\t<tr><td>2020</td><td>Chief Investment Officer    </td><td>584297.6</td></tr>\n",
              "\t<tr><td>2020</td><td>Managing Director           </td><td>488641.2</td></tr>\n",
              "\t<tr><td>2020</td><td>Managing Director           </td><td>488218.4</td></tr>\n",
              "\t<tr><td>2020</td><td>Physician Administrator, DPH</td><td>465612.0</td></tr>\n",
              "\t<tr><td>2020</td><td>Managing Director           </td><td>465400.7</td></tr>\n",
              "\t<tr><td>2020</td><td>Managing Director           </td><td>454947.4</td></tr>\n",
              "\t<tr><td>2020</td><td>Physician Administrator, DPH</td><td>443441.0</td></tr>\n",
              "\t<tr><td>2020</td><td>Director                    </td><td>401979.6</td></tr>\n",
              "\t<tr><td>2020</td><td>Executive Contract Employee </td><td>390376.0</td></tr>\n",
              "\t<tr><td>2020</td><td>Director                    </td><td>379244.9</td></tr>\n",
              "</tbody>\n",
              "</table>\n"
            ],
            "text/markdown": "\nA tibble: 10 × 3\n\n| Year &lt;int&gt; | Job &lt;chr&gt; | Salaries &lt;dbl&gt; |\n|---|---|---|\n| 2020 | Chief Investment Officer     | 584297.6 |\n| 2020 | Managing Director            | 488641.2 |\n| 2020 | Managing Director            | 488218.4 |\n| 2020 | Physician Administrator, DPH | 465612.0 |\n| 2020 | Managing Director            | 465400.7 |\n| 2020 | Managing Director            | 454947.4 |\n| 2020 | Physician Administrator, DPH | 443441.0 |\n| 2020 | Director                     | 401979.6 |\n| 2020 | Executive Contract Employee  | 390376.0 |\n| 2020 | Director                     | 379244.9 |\n\n",
            "text/latex": "A tibble: 10 × 3\n\\begin{tabular}{lll}\n Year & Job & Salaries\\\\\n <int> & <chr> & <dbl>\\\\\n\\hline\n\t 2020 & Chief Investment Officer     & 584297.6\\\\\n\t 2020 & Managing Director            & 488641.2\\\\\n\t 2020 & Managing Director            & 488218.4\\\\\n\t 2020 & Physician Administrator, DPH & 465612.0\\\\\n\t 2020 & Managing Director            & 465400.7\\\\\n\t 2020 & Managing Director            & 454947.4\\\\\n\t 2020 & Physician Administrator, DPH & 443441.0\\\\\n\t 2020 & Director                     & 401979.6\\\\\n\t 2020 & Executive Contract Employee  & 390376.0\\\\\n\t 2020 & Director                     & 379244.9\\\\\n\\end{tabular}\n",
            "text/plain": [
              "   Year Job                          Salaries\n",
              "1  2020 Chief Investment Officer     584297.6\n",
              "2  2020 Managing Director            488641.2\n",
              "3  2020 Managing Director            488218.4\n",
              "4  2020 Physician Administrator, DPH 465612.0\n",
              "5  2020 Managing Director            465400.7\n",
              "6  2020 Managing Director            454947.4\n",
              "7  2020 Physician Administrator, DPH 443441.0\n",
              "8  2020 Director                     401979.6\n",
              "9  2020 Executive Contract Employee  390376.0\n",
              "10 2020 Director                     379244.9"
            ]
          },
          "metadata": {}
        }
      ]
    },
    {
      "cell_type": "markdown",
      "source": [
        "3.2. Calculating Highest Overtime of Different Job sector of year 2020"
      ],
      "metadata": {
        "id": "OUA-MHVfBz4j"
      }
    },
    {
      "cell_type": "code",
      "source": [
        "sf_overtime<- sf.data[c( 'Year','Job','Overtime')]\n",
        "sf_overtime <- sf_overtime %>% group_by('Job') %>% arrange(desc(Overtime))\n",
        "sf_overtime <- sf_overtime[sf_overtime$Year == \"2020\",]%>% head(n=10)\n",
        "#sf_overtime %>% head(n=10)\n",
        "\n",
        "sf_overtime[4] <- NULL\n",
        "\n",
        "sf_overtime"
      ],
      "metadata": {
        "colab": {
          "base_uri": "https://localhost:8080/",
          "height": 411
        },
        "id": "pv1h8DcR3hpB",
        "outputId": "c3ec5c5a-5db0-47a9-deda-03c9d5f484c1"
      },
      "execution_count": 152,
      "outputs": [
        {
          "output_type": "display_data",
          "data": {
            "text/html": [
              "<table class=\"dataframe\">\n",
              "<caption>A tibble: 10 × 3</caption>\n",
              "<thead>\n",
              "\t<tr><th scope=col>Year</th><th scope=col>Job</th><th scope=col>Overtime</th></tr>\n",
              "\t<tr><th scope=col>&lt;int&gt;</th><th scope=col>&lt;chr&gt;</th><th scope=col>&lt;dbl&gt;</th></tr>\n",
              "</thead>\n",
              "<tbody>\n",
              "\t<tr><td>2020</td><td>Senior Deputy Sheriff</td><td>317589.4</td></tr>\n",
              "\t<tr><td>2020</td><td>Deputy Sheriff       </td><td>272856.4</td></tr>\n",
              "\t<tr><td>2020</td><td>Deputy Sheriff       </td><td>262417.2</td></tr>\n",
              "\t<tr><td>2020</td><td>Senior Deputy Sheriff</td><td>249774.1</td></tr>\n",
              "\t<tr><td>2020</td><td>Senior Deputy Sheriff</td><td>238600.4</td></tr>\n",
              "\t<tr><td>2020</td><td>Sheriff's Lieutenant </td><td>214921.0</td></tr>\n",
              "\t<tr><td>2020</td><td>Sheriff's Lieutenant </td><td>214900.2</td></tr>\n",
              "\t<tr><td>2020</td><td>Deputy Sheriff       </td><td>213483.0</td></tr>\n",
              "\t<tr><td>2020</td><td>Senior Deputy Sheriff</td><td>213198.3</td></tr>\n",
              "\t<tr><td>2020</td><td>Sheriff's Lieutenant </td><td>209889.9</td></tr>\n",
              "</tbody>\n",
              "</table>\n"
            ],
            "text/markdown": "\nA tibble: 10 × 3\n\n| Year &lt;int&gt; | Job &lt;chr&gt; | Overtime &lt;dbl&gt; |\n|---|---|---|\n| 2020 | Senior Deputy Sheriff | 317589.4 |\n| 2020 | Deputy Sheriff        | 272856.4 |\n| 2020 | Deputy Sheriff        | 262417.2 |\n| 2020 | Senior Deputy Sheriff | 249774.1 |\n| 2020 | Senior Deputy Sheriff | 238600.4 |\n| 2020 | Sheriff's Lieutenant  | 214921.0 |\n| 2020 | Sheriff's Lieutenant  | 214900.2 |\n| 2020 | Deputy Sheriff        | 213483.0 |\n| 2020 | Senior Deputy Sheriff | 213198.3 |\n| 2020 | Sheriff's Lieutenant  | 209889.9 |\n\n",
            "text/latex": "A tibble: 10 × 3\n\\begin{tabular}{lll}\n Year & Job & Overtime\\\\\n <int> & <chr> & <dbl>\\\\\n\\hline\n\t 2020 & Senior Deputy Sheriff & 317589.4\\\\\n\t 2020 & Deputy Sheriff        & 272856.4\\\\\n\t 2020 & Deputy Sheriff        & 262417.2\\\\\n\t 2020 & Senior Deputy Sheriff & 249774.1\\\\\n\t 2020 & Senior Deputy Sheriff & 238600.4\\\\\n\t 2020 & Sheriff's Lieutenant  & 214921.0\\\\\n\t 2020 & Sheriff's Lieutenant  & 214900.2\\\\\n\t 2020 & Deputy Sheriff        & 213483.0\\\\\n\t 2020 & Senior Deputy Sheriff & 213198.3\\\\\n\t 2020 & Sheriff's Lieutenant  & 209889.9\\\\\n\\end{tabular}\n",
            "text/plain": [
              "   Year Job                   Overtime\n",
              "1  2020 Senior Deputy Sheriff 317589.4\n",
              "2  2020 Deputy Sheriff        272856.4\n",
              "3  2020 Deputy Sheriff        262417.2\n",
              "4  2020 Senior Deputy Sheriff 249774.1\n",
              "5  2020 Senior Deputy Sheriff 238600.4\n",
              "6  2020 Sheriff's Lieutenant  214921.0\n",
              "7  2020 Sheriff's Lieutenant  214900.2\n",
              "8  2020 Deputy Sheriff        213483.0\n",
              "9  2020 Senior Deputy Sheriff 213198.3\n",
              "10 2020 Sheriff's Lieutenant  209889.9"
            ]
          },
          "metadata": {}
        }
      ]
    },
    {
      "cell_type": "markdown",
      "source": [
        "3.3. Calculating Highest Health and Dental Benefits of Different Job sector of year 2020"
      ],
      "metadata": {
        "id": "u7vNKFBGB2uB"
      }
    },
    {
      "cell_type": "code",
      "source": [
        "sf_health <- sf.data[c( 'Year','Job','Health.and.Dental')]\n",
        "sf_health <- sf_health %>% group_by('Job') %>% arrange(desc(Health.and.Dental))\n",
        "sf_health <- sf_health[sf_health$Year == \"2020\",]%>% head(n=10)\n",
        "#sf_health %>% head(n=10)\n",
        "\n",
        "sf_health[4] <- NULL\n",
        "\n",
        "sf_health"
      ],
      "metadata": {
        "colab": {
          "base_uri": "https://localhost:8080/",
          "height": 411
        },
        "id": "hfjR1Y9F_ehQ",
        "outputId": "85ecd8e1-cd7c-472f-f411-154d5900621d"
      },
      "execution_count": 70,
      "outputs": [
        {
          "output_type": "display_data",
          "data": {
            "text/html": [
              "<table class=\"dataframe\">\n",
              "<caption>A tibble: 10 × 3</caption>\n",
              "<thead>\n",
              "\t<tr><th scope=col>Year</th><th scope=col>Job</th><th scope=col>Health.and.Dental</th></tr>\n",
              "\t<tr><th scope=col>&lt;int&gt;</th><th scope=col>&lt;chr&gt;</th><th scope=col>&lt;dbl&gt;</th></tr>\n",
              "</thead>\n",
              "<tbody>\n",
              "\t<tr><td>2020</td><td>Manager VI                </td><td>49000.22</td></tr>\n",
              "\t<tr><td>2020</td><td>Manager III               </td><td>43446.48</td></tr>\n",
              "\t<tr><td>2020</td><td>Court Manager             </td><td>35633.00</td></tr>\n",
              "\t<tr><td>2020</td><td>Court Computer Sys Manager</td><td>35633.00</td></tr>\n",
              "\t<tr><td>2020</td><td>Manager I                 </td><td>33480.25</td></tr>\n",
              "\t<tr><td>2020</td><td>Manager II, MTA           </td><td>33479.10</td></tr>\n",
              "\t<tr><td>2020</td><td>Manager V                 </td><td>32363.01</td></tr>\n",
              "\t<tr><td>2020</td><td>Lieutenant 3              </td><td>32257.85</td></tr>\n",
              "\t<tr><td>2020</td><td>Lieutenant 3              </td><td>32009.72</td></tr>\n",
              "\t<tr><td>2020</td><td>Duty Officer              </td><td>31947.58</td></tr>\n",
              "</tbody>\n",
              "</table>\n"
            ],
            "text/markdown": "\nA tibble: 10 × 3\n\n| Year &lt;int&gt; | Job &lt;chr&gt; | Health.and.Dental &lt;dbl&gt; |\n|---|---|---|\n| 2020 | Manager VI                 | 49000.22 |\n| 2020 | Manager III                | 43446.48 |\n| 2020 | Court Manager              | 35633.00 |\n| 2020 | Court Computer Sys Manager | 35633.00 |\n| 2020 | Manager I                  | 33480.25 |\n| 2020 | Manager II, MTA            | 33479.10 |\n| 2020 | Manager V                  | 32363.01 |\n| 2020 | Lieutenant 3               | 32257.85 |\n| 2020 | Lieutenant 3               | 32009.72 |\n| 2020 | Duty Officer               | 31947.58 |\n\n",
            "text/latex": "A tibble: 10 × 3\n\\begin{tabular}{lll}\n Year & Job & Health.and.Dental\\\\\n <int> & <chr> & <dbl>\\\\\n\\hline\n\t 2020 & Manager VI                 & 49000.22\\\\\n\t 2020 & Manager III                & 43446.48\\\\\n\t 2020 & Court Manager              & 35633.00\\\\\n\t 2020 & Court Computer Sys Manager & 35633.00\\\\\n\t 2020 & Manager I                  & 33480.25\\\\\n\t 2020 & Manager II, MTA            & 33479.10\\\\\n\t 2020 & Manager V                  & 32363.01\\\\\n\t 2020 & Lieutenant 3               & 32257.85\\\\\n\t 2020 & Lieutenant 3               & 32009.72\\\\\n\t 2020 & Duty Officer               & 31947.58\\\\\n\\end{tabular}\n",
            "text/plain": [
              "   Year Job                        Health.and.Dental\n",
              "1  2020 Manager VI                 49000.22         \n",
              "2  2020 Manager III                43446.48         \n",
              "3  2020 Court Manager              35633.00         \n",
              "4  2020 Court Computer Sys Manager 35633.00         \n",
              "5  2020 Manager I                  33480.25         \n",
              "6  2020 Manager II, MTA            33479.10         \n",
              "7  2020 Manager V                  32363.01         \n",
              "8  2020 Lieutenant 3               32257.85         \n",
              "9  2020 Lieutenant 3               32009.72         \n",
              "10 2020 Duty Officer               31947.58         "
            ]
          },
          "metadata": {}
        }
      ]
    },
    {
      "cell_type": "markdown",
      "source": [
        "3.4. Calculating Highest Retirement of Different Job sector of year 2020"
      ],
      "metadata": {
        "id": "lhpLZgyLB6CM"
      }
    },
    {
      "cell_type": "code",
      "source": [
        "sf_Retirement <- sf.data[c( 'Year','Job','Retirement')]\n",
        "sf_Retirement <- sf_Retirement[sf_Retirement$Year == '2020',]\n",
        "sf_Retirement <- sf_Retirement %>% group_by('Job') %>% arrange(desc(Retirement))%>% head(n=5)\n",
        "\n",
        "sf_Retirement[4] <- NULL\n",
        "\n",
        "sf_Retirement"
      ],
      "metadata": {
        "colab": {
          "base_uri": "https://localhost:8080/",
          "height": 255
        },
        "id": "L-iGduNWBGLd",
        "outputId": "d44425f8-d039-478c-bfde-d87ca767229d"
      },
      "execution_count": 56,
      "outputs": [
        {
          "output_type": "display_data",
          "data": {
            "text/html": [
              "<table class=\"dataframe\">\n",
              "<caption>A tibble: 5 × 3</caption>\n",
              "<thead>\n",
              "\t<tr><th scope=col>Year</th><th scope=col>Job</th><th scope=col>Retirement</th></tr>\n",
              "\t<tr><th scope=col>&lt;int&gt;</th><th scope=col>&lt;chr&gt;</th><th scope=col>&lt;dbl&gt;</th></tr>\n",
              "</thead>\n",
              "<tbody>\n",
              "\t<tr><td>2020</td><td>Chief Investment Officer   </td><td>114934.16</td></tr>\n",
              "\t<tr><td>2020</td><td>Chief Deputy Sheriff (PERS)</td><td> 99840.50</td></tr>\n",
              "\t<tr><td>2020</td><td>Undersheriff               </td><td> 97997.87</td></tr>\n",
              "\t<tr><td>2020</td><td>Managing Director          </td><td> 96118.05</td></tr>\n",
              "\t<tr><td>2020</td><td>Managing Director          </td><td> 96039.33</td></tr>\n",
              "</tbody>\n",
              "</table>\n"
            ],
            "text/markdown": "\nA tibble: 5 × 3\n\n| Year &lt;int&gt; | Job &lt;chr&gt; | Retirement &lt;dbl&gt; |\n|---|---|---|\n| 2020 | Chief Investment Officer    | 114934.16 |\n| 2020 | Chief Deputy Sheriff (PERS) |  99840.50 |\n| 2020 | Undersheriff                |  97997.87 |\n| 2020 | Managing Director           |  96118.05 |\n| 2020 | Managing Director           |  96039.33 |\n\n",
            "text/latex": "A tibble: 5 × 3\n\\begin{tabular}{lll}\n Year & Job & Retirement\\\\\n <int> & <chr> & <dbl>\\\\\n\\hline\n\t 2020 & Chief Investment Officer    & 114934.16\\\\\n\t 2020 & Chief Deputy Sheriff (PERS) &  99840.50\\\\\n\t 2020 & Undersheriff                &  97997.87\\\\\n\t 2020 & Managing Director           &  96118.05\\\\\n\t 2020 & Managing Director           &  96039.33\\\\\n\\end{tabular}\n",
            "text/plain": [
              "  Year Job                         Retirement\n",
              "1 2020 Chief Investment Officer    114934.16 \n",
              "2 2020 Chief Deputy Sheriff (PERS)  99840.50 \n",
              "3 2020 Undersheriff                 97997.87 \n",
              "4 2020 Managing Director            96118.05 \n",
              "5 2020 Managing Director            96039.33 "
            ]
          },
          "metadata": {}
        }
      ]
    },
    {
      "cell_type": "markdown",
      "source": [
        "3.5. Calculating Highest Total Compensation of Different Job sector of year 2020"
      ],
      "metadata": {
        "id": "nlv3lrEvB9KJ"
      }
    },
    {
      "cell_type": "code",
      "source": [
        "sf_Total.Compensation <- sf.data[c( 'Year','Job','Total.Compensation')]\n",
        "sf_Total.Compensation <- sf_Total.Compensation %>% group_by('Job') %>% arrange(desc(Total.Compensation))\n",
        "sf_Total.Compensation <- sf_Total.Compensation[sf_Total.Compensation$Year == \"2020\",]%>% head(n=10)\n",
        "#sf_Total.Compensation%>% head(n=10)\n",
        "\n",
        "sf_Total.Compensation[4] <- NULL\n",
        "\n",
        "sf_Total.Compensation"
      ],
      "metadata": {
        "colab": {
          "base_uri": "https://localhost:8080/",
          "height": 411
        },
        "id": "H8X5NYrvCeX2",
        "outputId": "9710b2fa-55e9-4920-a1bc-52e7d07b4fd0"
      },
      "execution_count": 71,
      "outputs": [
        {
          "output_type": "display_data",
          "data": {
            "text/html": [
              "<table class=\"dataframe\">\n",
              "<caption>A tibble: 10 × 3</caption>\n",
              "<thead>\n",
              "\t<tr><th scope=col>Year</th><th scope=col>Job</th><th scope=col>Total.Compensation</th></tr>\n",
              "\t<tr><th scope=col>&lt;int&gt;</th><th scope=col>&lt;chr&gt;</th><th scope=col>&lt;dbl&gt;</th></tr>\n",
              "</thead>\n",
              "<tbody>\n",
              "\t<tr><td>2020</td><td>Chief Investment Officer     </td><td>735942.8</td></tr>\n",
              "\t<tr><td>2020</td><td>Managing Director            </td><td>627801.2</td></tr>\n",
              "\t<tr><td>2020</td><td>Managing Director            </td><td>627506.6</td></tr>\n",
              "\t<tr><td>2020</td><td>Physician Administrator, DPH </td><td>595356.3</td></tr>\n",
              "\t<tr><td>2020</td><td>Managing Director            </td><td>591936.5</td></tr>\n",
              "\t<tr><td>2020</td><td>Managing Director            </td><td>580291.2</td></tr>\n",
              "\t<tr><td>2020</td><td>Physician Administrator, DPH </td><td>569142.4</td></tr>\n",
              "\t<tr><td>2020</td><td>Asst Med Examiner            </td><td>567767.1</td></tr>\n",
              "\t<tr><td>2020</td><td>Senior Deputy Sheriff        </td><td>554929.3</td></tr>\n",
              "\t<tr><td>2020</td><td>Sr Psychiatric Physician Spec</td><td>516599.6</td></tr>\n",
              "</tbody>\n",
              "</table>\n"
            ],
            "text/markdown": "\nA tibble: 10 × 3\n\n| Year &lt;int&gt; | Job &lt;chr&gt; | Total.Compensation &lt;dbl&gt; |\n|---|---|---|\n| 2020 | Chief Investment Officer      | 735942.8 |\n| 2020 | Managing Director             | 627801.2 |\n| 2020 | Managing Director             | 627506.6 |\n| 2020 | Physician Administrator, DPH  | 595356.3 |\n| 2020 | Managing Director             | 591936.5 |\n| 2020 | Managing Director             | 580291.2 |\n| 2020 | Physician Administrator, DPH  | 569142.4 |\n| 2020 | Asst Med Examiner             | 567767.1 |\n| 2020 | Senior Deputy Sheriff         | 554929.3 |\n| 2020 | Sr Psychiatric Physician Spec | 516599.6 |\n\n",
            "text/latex": "A tibble: 10 × 3\n\\begin{tabular}{lll}\n Year & Job & Total.Compensation\\\\\n <int> & <chr> & <dbl>\\\\\n\\hline\n\t 2020 & Chief Investment Officer      & 735942.8\\\\\n\t 2020 & Managing Director             & 627801.2\\\\\n\t 2020 & Managing Director             & 627506.6\\\\\n\t 2020 & Physician Administrator, DPH  & 595356.3\\\\\n\t 2020 & Managing Director             & 591936.5\\\\\n\t 2020 & Managing Director             & 580291.2\\\\\n\t 2020 & Physician Administrator, DPH  & 569142.4\\\\\n\t 2020 & Asst Med Examiner             & 567767.1\\\\\n\t 2020 & Senior Deputy Sheriff         & 554929.3\\\\\n\t 2020 & Sr Psychiatric Physician Spec & 516599.6\\\\\n\\end{tabular}\n",
            "text/plain": [
              "   Year Job                           Total.Compensation\n",
              "1  2020 Chief Investment Officer      735942.8          \n",
              "2  2020 Managing Director             627801.2          \n",
              "3  2020 Managing Director             627506.6          \n",
              "4  2020 Physician Administrator, DPH  595356.3          \n",
              "5  2020 Managing Director             591936.5          \n",
              "6  2020 Managing Director             580291.2          \n",
              "7  2020 Physician Administrator, DPH  569142.4          \n",
              "8  2020 Asst Med Examiner             567767.1          \n",
              "9  2020 Senior Deputy Sheriff         554929.3          \n",
              "10 2020 Sr Psychiatric Physician Spec 516599.6          "
            ]
          },
          "metadata": {}
        }
      ]
    },
    {
      "cell_type": "markdown",
      "source": [
        "#***4.Single Vector***"
      ],
      "metadata": {
        "id": "iyGozfkaD7s-"
      }
    },
    {
      "cell_type": "code",
      "source": [
        "sf_Retirement <- sf.data[c( 'Year','Job','Retirement')]\n",
        "sf_Retirement <- sf_Retirement[sf_Retirement$Year == '2020',]\n",
        "sf_Retirement <- sf_Retirement %>% group_by('Job') %>% arrange(desc(Retirement))%>% head(n=10)\n",
        "\n",
        "sf_Retirement[4] <- NULL\n",
        "\n",
        "sf_Retirement"
      ],
      "metadata": {
        "colab": {
          "base_uri": "https://localhost:8080/",
          "height": 411
        },
        "id": "RG93pVRFKn0K",
        "outputId": "9c11fa9b-33c4-48a6-e801-21e444c7fb5d"
      },
      "execution_count": 72,
      "outputs": [
        {
          "output_type": "display_data",
          "data": {
            "text/html": [
              "<table class=\"dataframe\">\n",
              "<caption>A tibble: 10 × 3</caption>\n",
              "<thead>\n",
              "\t<tr><th scope=col>Year</th><th scope=col>Job</th><th scope=col>Retirement</th></tr>\n",
              "\t<tr><th scope=col>&lt;int&gt;</th><th scope=col>&lt;chr&gt;</th><th scope=col>&lt;dbl&gt;</th></tr>\n",
              "</thead>\n",
              "<tbody>\n",
              "\t<tr><td>2020</td><td>Chief Investment Officer    </td><td>114934.16</td></tr>\n",
              "\t<tr><td>2020</td><td>Chief Deputy Sheriff (PERS) </td><td> 99840.50</td></tr>\n",
              "\t<tr><td>2020</td><td>Undersheriff                </td><td> 97997.87</td></tr>\n",
              "\t<tr><td>2020</td><td>Managing Director           </td><td> 96118.05</td></tr>\n",
              "\t<tr><td>2020</td><td>Managing Director           </td><td> 96039.33</td></tr>\n",
              "\t<tr><td>2020</td><td>Physician Administrator, DPH</td><td> 94900.65</td></tr>\n",
              "\t<tr><td>2020</td><td>Sheriff                     </td><td> 94624.87</td></tr>\n",
              "\t<tr><td>2020</td><td>Managing Director           </td><td> 91763.58</td></tr>\n",
              "\t<tr><td>2020</td><td>Physician Administrator, DPH</td><td> 90381.73</td></tr>\n",
              "\t<tr><td>2020</td><td>Managing Director           </td><td> 89844.26</td></tr>\n",
              "</tbody>\n",
              "</table>\n"
            ],
            "text/markdown": "\nA tibble: 10 × 3\n\n| Year &lt;int&gt; | Job &lt;chr&gt; | Retirement &lt;dbl&gt; |\n|---|---|---|\n| 2020 | Chief Investment Officer     | 114934.16 |\n| 2020 | Chief Deputy Sheriff (PERS)  |  99840.50 |\n| 2020 | Undersheriff                 |  97997.87 |\n| 2020 | Managing Director            |  96118.05 |\n| 2020 | Managing Director            |  96039.33 |\n| 2020 | Physician Administrator, DPH |  94900.65 |\n| 2020 | Sheriff                      |  94624.87 |\n| 2020 | Managing Director            |  91763.58 |\n| 2020 | Physician Administrator, DPH |  90381.73 |\n| 2020 | Managing Director            |  89844.26 |\n\n",
            "text/latex": "A tibble: 10 × 3\n\\begin{tabular}{lll}\n Year & Job & Retirement\\\\\n <int> & <chr> & <dbl>\\\\\n\\hline\n\t 2020 & Chief Investment Officer     & 114934.16\\\\\n\t 2020 & Chief Deputy Sheriff (PERS)  &  99840.50\\\\\n\t 2020 & Undersheriff                 &  97997.87\\\\\n\t 2020 & Managing Director            &  96118.05\\\\\n\t 2020 & Managing Director            &  96039.33\\\\\n\t 2020 & Physician Administrator, DPH &  94900.65\\\\\n\t 2020 & Sheriff                      &  94624.87\\\\\n\t 2020 & Managing Director            &  91763.58\\\\\n\t 2020 & Physician Administrator, DPH &  90381.73\\\\\n\t 2020 & Managing Director            &  89844.26\\\\\n\\end{tabular}\n",
            "text/plain": [
              "   Year Job                          Retirement\n",
              "1  2020 Chief Investment Officer     114934.16 \n",
              "2  2020 Chief Deputy Sheriff (PERS)   99840.50 \n",
              "3  2020 Undersheriff                  97997.87 \n",
              "4  2020 Managing Director             96118.05 \n",
              "5  2020 Managing Director             96039.33 \n",
              "6  2020 Physician Administrator, DPH  94900.65 \n",
              "7  2020 Sheriff                       94624.87 \n",
              "8  2020 Managing Director             91763.58 \n",
              "9  2020 Physician Administrator, DPH  90381.73 \n",
              "10 2020 Managing Director             89844.26 "
            ]
          },
          "metadata": {}
        }
      ]
    },
    {
      "cell_type": "code",
      "source": [
        "vector.sf_Retirement <- c(sf_Retirement$Job)\n",
        "head(vector.sf_Retirement ,5)\n"
      ],
      "metadata": {
        "colab": {
          "base_uri": "https://localhost:8080/",
          "height": 34
        },
        "id": "NptqVfpbOpSB",
        "outputId": "17ef9f22-de71-4896-d331-c0097368ab39"
      },
      "execution_count": 73,
      "outputs": [
        {
          "output_type": "display_data",
          "data": {
            "text/html": [
              "<style>\n",
              ".list-inline {list-style: none; margin:0; padding: 0}\n",
              ".list-inline>li {display: inline-block}\n",
              ".list-inline>li:not(:last-child)::after {content: \"\\00b7\"; padding: 0 .5ex}\n",
              "</style>\n",
              "<ol class=list-inline><li>'Chief Investment Officer'</li><li>'Chief Deputy Sheriff (PERS)'</li><li>'Undersheriff'</li><li>'Managing Director'</li><li>'Managing Director'</li></ol>\n"
            ],
            "text/markdown": "1. 'Chief Investment Officer'\n2. 'Chief Deputy Sheriff (PERS)'\n3. 'Undersheriff'\n4. 'Managing Director'\n5. 'Managing Director'\n\n\n",
            "text/latex": "\\begin{enumerate*}\n\\item 'Chief Investment Officer'\n\\item 'Chief Deputy Sheriff (PERS)'\n\\item 'Undersheriff'\n\\item 'Managing Director'\n\\item 'Managing Director'\n\\end{enumerate*}\n",
            "text/plain": [
              "[1] \"Chief Investment Officer\"    \"Chief Deputy Sheriff (PERS)\"\n",
              "[3] \"Undersheriff\"                \"Managing Director\"          \n",
              "[5] \"Managing Director\"          "
            ]
          },
          "metadata": {}
        }
      ]
    },
    {
      "cell_type": "markdown",
      "source": [
        "The provided data appears to represent various job titles along with the corresponding retirement fund amounts for the year 2020. Here's a business explanation of this data:\n",
        "\n",
        "In the year 2020, the organization (or government agency) had employees holding different job titles, and these employees were contributing to a retirement fund. The retirement fund is a financial arrangement where employees set aside a portion of their earnings during their working years to ensure financial security and stability after retirement.\n",
        "\n",
        "1. **Chief Investment Officer**: The Chief Investment Officer in 2020 had a retirement fund contribution of $114,934.16. This indicates that the organization's top investment officer was actively contributing to their retirement savings, aligning with the importance of prudent financial planning even at the executive level.\n",
        "\n",
        "2. **Chief Deputy Sheriff (PERS)**: The Chief Deputy Sheriff contributed $99,840.50 to the retirement fund in 2020. This suggests that even high-ranking law enforcement officials were committed to securing their financial futures through retirement planning.\n",
        "\n",
        "3. **Undersheriff**: The Undersheriff, a key leadership position, contributed $97,997.87 to the retirement fund in 2020. This underscores the importance of retirement savings for leadership roles within the organization.\n",
        "\n",
        "4. **Managing Director**: Managing Directors, possibly from different departments or divisions, had varying retirement fund contributions. This indicates that individuals in these roles were making decisions about their retirement savings based on their unique financial situations.\n",
        "\n",
        "5. **Physician Administrator, DPH**: Employees with the title of Physician Administrator in the Department of Public Health (DPH) contributed to their retirement fund in 2020. This shows that healthcare professionals also prioritize retirement planning.\n",
        "\n",
        "6. **Sheriff**: The Sheriff, a prominent law enforcement position, contributed $94,624.87 to the retirement fund. This demonstrates the commitment of top law enforcement officers to long-term financial security.\n",
        "\n",
        "Overall, this data reflects a responsible approach to financial planning and retirement savings within the organization. Employees from various job roles and levels of responsibility are actively contributing to their retirement funds, acknowledging the importance of financial preparedness for life after their careers. It also indicates that the organization may offer retirement benefits or pension plans to its employees to facilitate their retirement savings."
      ],
      "metadata": {
        "id": "OtINc65vvYIu"
      }
    },
    {
      "cell_type": "markdown",
      "source": [
        "#***5.LISTS***\n"
      ],
      "metadata": {
        "id": "6fGKSFhcTQwq"
      }
    },
    {
      "cell_type": "markdown",
      "source": [
        "5.1. Highest Retirement  for the Year 2020"
      ],
      "metadata": {
        "id": "NaOjwrbSTYIT"
      }
    },
    {
      "cell_type": "code",
      "source": [
        "# Extract the column as a vector\n",
        "\n",
        "sf_Retirementvector <- sf_Retirement$Job\n",
        "\n",
        "\n",
        "# Convert the vector to a list\n",
        "sf_Retirementlist <- as.list(sf_Retirementvector)\n",
        "\n",
        "sf_Retirementlist<- unique(sf_Retirementlist)\n",
        "cat(\"- This list consists of Organizations Groups that offered Highest Retirement  for the Year 2020\")\n",
        "\n",
        "\n",
        "\n",
        "# Display the result\n",
        "(sf_Retirementlist)"
      ],
      "metadata": {
        "colab": {
          "base_uri": "https://localhost:8080/",
          "height": 166
        },
        "id": "LXFEqFD4byeJ",
        "outputId": "da28eb88-5616-40ed-95bb-e975e41e8b6c"
      },
      "execution_count": 215,
      "outputs": [
        {
          "output_type": "stream",
          "name": "stdout",
          "text": [
            "- This list consists of Organizations Groups that offered Highest Retirement  for the Year 2020"
          ]
        },
        {
          "output_type": "display_data",
          "data": {
            "text/html": [
              "<ol>\n",
              "\t<li>'Chief Investment Officer'</li>\n",
              "\t<li>'Chief Deputy Sheriff (PERS)'</li>\n",
              "\t<li>'Undersheriff'</li>\n",
              "\t<li>'Managing Director'</li>\n",
              "\t<li>'Physician Administrator, DPH'</li>\n",
              "\t<li>'Sheriff'</li>\n",
              "</ol>\n"
            ],
            "text/markdown": "1. 'Chief Investment Officer'\n2. 'Chief Deputy Sheriff (PERS)'\n3. 'Undersheriff'\n4. 'Managing Director'\n5. 'Physician Administrator, DPH'\n6. 'Sheriff'\n\n\n",
            "text/latex": "\\begin{enumerate}\n\\item 'Chief Investment Officer'\n\\item 'Chief Deputy Sheriff (PERS)'\n\\item 'Undersheriff'\n\\item 'Managing Director'\n\\item 'Physician Administrator, DPH'\n\\item 'Sheriff'\n\\end{enumerate}\n",
            "text/plain": [
              "[[1]]\n",
              "[1] \"Chief Investment Officer\"\n",
              "\n",
              "[[2]]\n",
              "[1] \"Chief Deputy Sheriff (PERS)\"\n",
              "\n",
              "[[3]]\n",
              "[1] \"Undersheriff\"\n",
              "\n",
              "[[4]]\n",
              "[1] \"Managing Director\"\n",
              "\n",
              "[[5]]\n",
              "[1] \"Physician Administrator, DPH\"\n",
              "\n",
              "[[6]]\n",
              "[1] \"Sheriff\"\n"
            ]
          },
          "metadata": {}
        }
      ]
    },
    {
      "cell_type": "markdown",
      "source": [
        "Certainly, here's a brief explanation for each of the listed organization groups that offered the highest retirement benefits in the year 2020:\n",
        "\n",
        "1. **Chief Investment Officer**: This role typically involves managing investment portfolios, and the high retirement benefits may reflect the importance of retaining experienced professionals in this critical financial position.\n",
        "\n",
        "2. **Chief Deputy Sheriff (PERS)**: As a high-ranking law enforcement role, Chief Deputy Sheriffs often receive substantial retirement benefits to recognize their years of service and the demanding nature of their job.\n",
        "\n",
        "3. **Undersheriff**: Similar to Chief Deputy Sheriffs, Undersheriffs play key roles in law enforcement agencies, which may result in higher retirement benefits due to their leadership responsibilities.\n",
        "\n",
        "4. **Managing Director**: Managing Directors are often top executives in organizations, and their high retirement benefits may signify the importance of retaining top talent in leadership positions.\n",
        "\n",
        "5. **Physician Administrator, DPH**: Given the critical role of healthcare administrators, particularly in public health, these professionals may receive significant retirement benefits to reward their contributions to healthcare systems.\n",
        "\n",
        "6. **Sheriff**: As the highest-ranking law enforcement official in many jurisdictions, Sheriffs may receive substantial retirement benefits in recognition of their leadership and public safety responsibilities.\n",
        "\n",
        "These benefits are likely reflective of the seniority, responsibility, and importance of these positions within their respective organizations."
      ],
      "metadata": {
        "id": "SOzJ5yREyU1F"
      }
    },
    {
      "cell_type": "markdown",
      "source": [
        "5.2. Highest overtime for the Year 2020"
      ],
      "metadata": {
        "id": "35BYRrDgoYYE"
      }
    },
    {
      "cell_type": "code",
      "source": [
        "sf_overtimevector <- sf_overtime$Job\n",
        "\n",
        "\n",
        "# Convert the vector to a list\n",
        "sf_overtimelist <- as.list(sf_overtimevector)\n",
        "\n",
        "sf_overtimelist<- unique(sf_overtimelist)\n",
        "cat(\"- This list consists of Organizations Groups that offered highest overtime for the Year 2020\")\n",
        "\n",
        "\n",
        "\n",
        "# Display the result\n",
        "(sf_overtimelist)"
      ],
      "metadata": {
        "colab": {
          "base_uri": "https://localhost:8080/",
          "height": 114
        },
        "id": "l3ld4qXKdtw9",
        "outputId": "02446177-6d2b-4031-e54e-77defa7f4633"
      },
      "execution_count": 211,
      "outputs": [
        {
          "output_type": "stream",
          "name": "stdout",
          "text": [
            "- This list consists of Organizations Groups that offered highest overtime for the Year 2020"
          ]
        },
        {
          "output_type": "display_data",
          "data": {
            "text/html": [
              "<ol>\n",
              "\t<li>'Senior Deputy Sheriff'</li>\n",
              "\t<li>'Deputy Sheriff'</li>\n",
              "\t<li>'Sheriff\\'s Lieutenant'</li>\n",
              "</ol>\n"
            ],
            "text/markdown": "1. 'Senior Deputy Sheriff'\n2. 'Deputy Sheriff'\n3. 'Sheriff\\'s Lieutenant'\n\n\n",
            "text/latex": "\\begin{enumerate}\n\\item 'Senior Deputy Sheriff'\n\\item 'Deputy Sheriff'\n\\item 'Sheriff\\textbackslash{}'s Lieutenant'\n\\end{enumerate}\n",
            "text/plain": [
              "[[1]]\n",
              "[1] \"Senior Deputy Sheriff\"\n",
              "\n",
              "[[2]]\n",
              "[1] \"Deputy Sheriff\"\n",
              "\n",
              "[[3]]\n",
              "[1] \"Sheriff's Lieutenant\"\n"
            ]
          },
          "metadata": {}
        }
      ]
    },
    {
      "cell_type": "markdown",
      "source": [
        "Certainly, here's a brief explanation of the overtime benefits for each of the listed roles in the year 2020:\n",
        "\n",
        "1. **Senior Deputy Sheriff**: Senior Deputy Sheriffs likely accrued high overtime due to their seniority and the demanding nature of law enforcement, often involving longer hours for public safety and emergency response.\n",
        "\n",
        "2. **Deputy Sheriff**: Deputies often work overtime to ensure law enforcement coverage around the clock, responding to emergencies, and maintaining public safety, which can lead to substantial overtime benefits.\n",
        "\n",
        "3. **Sheriff's Lieutenant**: Sheriff's Lieutenants, as supervisory roles, may have taken on additional responsibilities during critical situations, resulting in higher overtime benefits to manage law enforcement operations effectively.\n",
        "\n",
        "These roles' overtime benefits reflect the crucial and often unpredictable nature of law enforcement work, requiring extended hours to ensure public safety and effective response to various situations."
      ],
      "metadata": {
        "id": "hJZgEN8Yyz1Z"
      }
    },
    {
      "cell_type": "markdown",
      "source": [
        "5.3. Highest Total Compensation for the Year 2020"
      ],
      "metadata": {
        "id": "vMBekI4OjkRi"
      }
    },
    {
      "cell_type": "code",
      "source": [
        "# Extract the column as a vector\n",
        "\n",
        "sf_Total.Compensationvector  <- sf_Total.Compensation\n",
        "\n",
        "\n",
        "# Convert the vector to a list\n",
        "sf_Total.Compensationlist <- as.list(sf_Total.Compensationvector)\n",
        "\n",
        "sf_Total.Compensationlist<- unique(sf_Total.Compensationlist)\n",
        "cat(\"- This list consists of Organizations Groups that offered highest Total Compensation for the Year 2020\")\n",
        "\n",
        "\n",
        "\n",
        "\n",
        "\n",
        "# Display the result\n",
        "(sf_Total.Compensationlist)"
      ],
      "metadata": {
        "colab": {
          "base_uri": "https://localhost:8080/",
          "height": 166
        },
        "id": "_iNGpl_0jVTQ",
        "outputId": "2be42e1e-07b9-4055-e865-aa94db0557df"
      },
      "execution_count": 212,
      "outputs": [
        {
          "output_type": "stream",
          "name": "stdout",
          "text": [
            "- This list consists of Organizations Groups that offered highest Total Compensation for the Year 2020"
          ]
        },
        {
          "output_type": "display_data",
          "data": {
            "text/html": [
              "<ol>\n",
              "\t<li>'Chief Investment Officer'</li>\n",
              "\t<li>'Managing Director'</li>\n",
              "\t<li>'Physician Administrator, DPH'</li>\n",
              "\t<li>'Asst Med Examiner'</li>\n",
              "\t<li>'Senior Deputy Sheriff'</li>\n",
              "\t<li>'Sr Psychiatric Physician Spec'</li>\n",
              "</ol>\n"
            ],
            "text/markdown": "1. 'Chief Investment Officer'\n2. 'Managing Director'\n3. 'Physician Administrator, DPH'\n4. 'Asst Med Examiner'\n5. 'Senior Deputy Sheriff'\n6. 'Sr Psychiatric Physician Spec'\n\n\n",
            "text/latex": "\\begin{enumerate}\n\\item 'Chief Investment Officer'\n\\item 'Managing Director'\n\\item 'Physician Administrator, DPH'\n\\item 'Asst Med Examiner'\n\\item 'Senior Deputy Sheriff'\n\\item 'Sr Psychiatric Physician Spec'\n\\end{enumerate}\n",
            "text/plain": [
              "[[1]]\n",
              "[1] \"Chief Investment Officer\"\n",
              "\n",
              "[[2]]\n",
              "[1] \"Managing Director\"\n",
              "\n",
              "[[3]]\n",
              "[1] \"Physician Administrator, DPH\"\n",
              "\n",
              "[[4]]\n",
              "[1] \"Asst Med Examiner\"\n",
              "\n",
              "[[5]]\n",
              "[1] \"Senior Deputy Sheriff\"\n",
              "\n",
              "[[6]]\n",
              "[1] \"Sr Psychiatric Physician Spec\"\n"
            ]
          },
          "metadata": {}
        }
      ]
    },
    {
      "cell_type": "markdown",
      "source": [
        "Certainly, here's a brief business explanation of the total compensation for each of the listed roles in the year 2020:\n",
        "\n",
        "1. **Chief Investment Officer**: This role often involves managing significant financial portfolios, and the high total compensation reflects the responsibility and expertise required in the financial sector.\n",
        "\n",
        "2. **Managing Director**: Managing Directors typically hold top leadership positions in organizations, justifying their high total compensation as a recognition of their strategic leadership and decision-making.\n",
        "\n",
        "3. **Physician Administrator, DPH**: Given the vital role of healthcare administrators, especially in public health, their total compensation reflects their responsibilities in managing healthcare systems and ensuring public well-being.\n",
        "\n",
        "4. **Asst Med Examiner**: Assistant Medical Examiners play critical roles in forensic medicine, and their total compensation reflects their expertise in handling complex cases related to cause of death and forensic examinations.\n",
        "\n",
        "5. **Senior Deputy Sheriff**: Senior Deputy Sheriffs receive high total compensation due to their seniority and the demanding nature of law enforcement roles, involving leadership and public safety responsibilities.\n",
        "\n",
        "6. **Sr Psychiatric Physician Spec**: Senior Psychiatric Physician Specialists often deal with complex mental health cases, and their total compensation reflects their expertise in providing specialized psychiatric care.\n",
        "\n",
        "These roles' total compensation packages are typically determined by factors such as their level of responsibility, expertise, and the critical nature of their contributions to their respective fields."
      ],
      "metadata": {
        "id": "sS1YFIt9zXX8"
      }
    },
    {
      "cell_type": "markdown",
      "source": [
        "5.4. Highest Salary for the Year 2020"
      ],
      "metadata": {
        "id": "r0qUoz1ejmTJ"
      }
    },
    {
      "cell_type": "code",
      "source": [
        "sf_salary_1vector <- sf_salary_1$Job\n",
        "\n",
        "\n",
        "# Convert the vector to a list\n",
        "sf_salary_1list <- as.list(sf_salary_1vector)\n",
        "\n",
        "sf_salary_1list<- unique(sf_salary_1list)\n",
        "cat(\"- This list consists of Organizations Groups that offered highest salary for the Year 2020\")\n",
        "\n",
        "\n",
        "\n",
        "# Display the result\n",
        "(sf_salary_1list)"
      ],
      "metadata": {
        "colab": {
          "base_uri": "https://localhost:8080/",
          "height": 149
        },
        "id": "pB7cWIPEjm5l",
        "outputId": "8b256bb7-bea4-4a5e-ae1d-27301f79d230"
      },
      "execution_count": 213,
      "outputs": [
        {
          "output_type": "stream",
          "name": "stdout",
          "text": [
            "- This list consists of Organizations Groups that offered highest salary for the Year 2020"
          ]
        },
        {
          "output_type": "display_data",
          "data": {
            "text/html": [
              "<ol>\n",
              "\t<li>'Chief Investment Officer'</li>\n",
              "\t<li>'Managing Director'</li>\n",
              "\t<li>'Physician Administrator, DPH'</li>\n",
              "\t<li>'Director'</li>\n",
              "\t<li>'Executive Contract Employee'</li>\n",
              "</ol>\n"
            ],
            "text/markdown": "1. 'Chief Investment Officer'\n2. 'Managing Director'\n3. 'Physician Administrator, DPH'\n4. 'Director'\n5. 'Executive Contract Employee'\n\n\n",
            "text/latex": "\\begin{enumerate}\n\\item 'Chief Investment Officer'\n\\item 'Managing Director'\n\\item 'Physician Administrator, DPH'\n\\item 'Director'\n\\item 'Executive Contract Employee'\n\\end{enumerate}\n",
            "text/plain": [
              "[[1]]\n",
              "[1] \"Chief Investment Officer\"\n",
              "\n",
              "[[2]]\n",
              "[1] \"Managing Director\"\n",
              "\n",
              "[[3]]\n",
              "[1] \"Physician Administrator, DPH\"\n",
              "\n",
              "[[4]]\n",
              "[1] \"Director\"\n",
              "\n",
              "[[5]]\n",
              "[1] \"Executive Contract Employee\"\n"
            ]
          },
          "metadata": {}
        }
      ]
    },
    {
      "cell_type": "markdown",
      "source": [
        "Certainly, here's a brief explanation of each term related to the job role that received the highest salary in 2020:\n",
        "\n",
        "1. **Chief Investment Officer**: As a top financial executive, Chief Investment Officers oversee investment strategies, managing substantial portfolios, and their high salary reflects their responsibility for maximizing returns on investments.\n",
        "\n",
        "2. **Managing Director**: Managing Directors typically hold senior leadership positions in organizations, responsible for strategic decision-making, and their high salary acknowledges their crucial role in shaping the company's direction.\n",
        "\n",
        "3. **Physician Administrator, DPH**: Physician Administrators in public health manage healthcare systems, ensuring efficient operations, and their high salary recognizes their role in maintaining public well-being and healthcare quality.\n",
        "\n",
        "4. **Director**: Directors often hold leadership roles overseeing specific departments or functions within organizations, and their high salary reflects their responsibility for guiding and achieving departmental goals.\n",
        "\n",
        "5. **Executive Contract Employee**: Executive Contract Employees may be hired for specialized roles on a contract basis, often bringing unique expertise, and their high salary can result from the specialized skills and experience they offer.\n",
        "\n",
        "The job role receiving the highest salary likely combines extensive responsibilities, expertise, and leadership in their field or organization, warranting a substantial compensation package."
      ],
      "metadata": {
        "id": "hvfnHSfIz-UB"
      }
    },
    {
      "cell_type": "markdown",
      "source": [
        "5.5. Highest Health and Dental Benefit for the Year 2020"
      ],
      "metadata": {
        "id": "c0whfw4Fj0H6"
      }
    },
    {
      "cell_type": "code",
      "source": [
        "sf_healthvector <- sf_health$Job\n",
        "\n",
        "\n",
        "# Convert the vector to a list\n",
        "sf_healthlist <- as.list(sf_healthvector)\n",
        "\n",
        "sf_healthlist<- unique(sf_healthlist)\n",
        "cat(\"- This list consists of Organizations Groups that offered highest health and dental benefit for the Year 2020\")\n",
        "\n",
        "\n",
        "\n",
        "# Display the result\n",
        "(sf_healthlist)"
      ],
      "metadata": {
        "colab": {
          "base_uri": "https://localhost:8080/",
          "height": 219
        },
        "id": "pqTd7Fnbj094",
        "outputId": "d7256c42-c4d3-46cf-82f1-4f58efaacfb6"
      },
      "execution_count": 216,
      "outputs": [
        {
          "output_type": "stream",
          "name": "stdout",
          "text": [
            "- This list consists of Organizations Groups that offered highest health and dental benefit for the Year 2020"
          ]
        },
        {
          "output_type": "display_data",
          "data": {
            "text/html": [
              "<ol>\n",
              "\t<li>'Manager VI'</li>\n",
              "\t<li>'Manager III'</li>\n",
              "\t<li>'Court Manager'</li>\n",
              "\t<li>'Court Computer Sys Manager'</li>\n",
              "\t<li>'Manager I'</li>\n",
              "\t<li>'Manager II, MTA'</li>\n",
              "\t<li>'Manager V'</li>\n",
              "\t<li>'Lieutenant 3'</li>\n",
              "\t<li>'Duty Officer'</li>\n",
              "</ol>\n"
            ],
            "text/markdown": "1. 'Manager VI'\n2. 'Manager III'\n3. 'Court Manager'\n4. 'Court Computer Sys Manager'\n5. 'Manager I'\n6. 'Manager II, MTA'\n7. 'Manager V'\n8. 'Lieutenant 3'\n9. 'Duty Officer'\n\n\n",
            "text/latex": "\\begin{enumerate}\n\\item 'Manager VI'\n\\item 'Manager III'\n\\item 'Court Manager'\n\\item 'Court Computer Sys Manager'\n\\item 'Manager I'\n\\item 'Manager II, MTA'\n\\item 'Manager V'\n\\item 'Lieutenant 3'\n\\item 'Duty Officer'\n\\end{enumerate}\n",
            "text/plain": [
              "[[1]]\n",
              "[1] \"Manager VI\"\n",
              "\n",
              "[[2]]\n",
              "[1] \"Manager III\"\n",
              "\n",
              "[[3]]\n",
              "[1] \"Court Manager\"\n",
              "\n",
              "[[4]]\n",
              "[1] \"Court Computer Sys Manager\"\n",
              "\n",
              "[[5]]\n",
              "[1] \"Manager I\"\n",
              "\n",
              "[[6]]\n",
              "[1] \"Manager II, MTA\"\n",
              "\n",
              "[[7]]\n",
              "[1] \"Manager V\"\n",
              "\n",
              "[[8]]\n",
              "[1] \"Lieutenant 3\"\n",
              "\n",
              "[[9]]\n",
              "[1] \"Duty Officer\"\n"
            ]
          },
          "metadata": {}
        }
      ]
    },
    {
      "cell_type": "markdown",
      "source": [
        "Certainly, here's a brief explanation of each of the job roles that received the highest health and dental benefits in 2020:\n",
        "\n",
        "1. **Manager VI**: Managers at this level often oversee significant departments or divisions, and their high health and dental benefits reflect the value placed on retaining experienced leadership.\n",
        "\n",
        "2. **Manager III**: Manager III roles typically involve middle-level management, and their generous health and dental benefits may aim to attract and retain skilled managers who play vital roles in organizational operations.\n",
        "\n",
        "3. **Court Manager**: Court Managers are responsible for the efficient operation of court systems, and their substantial health and dental benefits acknowledge their role in ensuring justice administration.\n",
        "\n",
        "4. **Court Computer Sys Manager**: Court Computer System Managers oversee technology systems within the court, and their high benefits recognize their critical role in maintaining court technology infrastructure.\n",
        "\n",
        "5. **Manager I**: Manager I roles often represent entry-level management positions, and their health and dental benefits aim to support the development of future leaders within the organization.\n",
        "\n",
        "6. **Manager II, MTA**: Managers in the transportation sector, like Manager II at MTA, may receive significant health and dental benefits due to the importance of transportation services in urban areas.\n",
        "\n",
        "7. **Manager V**: Manager V positions typically entail significant responsibilities, and the high health and dental benefits may be a way to attract and retain top-level management talent.\n",
        "\n",
        "8. **Lieutenant 3**: Lieutenants in law enforcement are often senior officers with supervisory roles, and their substantial health and dental benefits reflect their experience and responsibilities in maintaining public safety.\n",
        "\n",
        "9. **Duty Officer**: Duty Officers play crucial roles in emergency response and management, and their high benefits may be a recognition of their contributions to public safety and crisis management.\n",
        "\n",
        "These roles' generous health and dental benefits reflect their importance in various sectors and their impact on organizational effectiveness and public service."
      ],
      "metadata": {
        "id": "oyJ_tnoR0bCM"
      }
    },
    {
      "cell_type": "markdown",
      "source": [
        "#***6.Conditions***"
      ],
      "metadata": {
        "id": "CD5mK2IM0blu"
      }
    },
    {
      "cell_type": "markdown",
      "source": [
        "6.1. Highest Retirement of Various Job role of Year 2020"
      ],
      "metadata": {
        "id": "1oIWehcj0ekF"
      }
    },
    {
      "cell_type": "code",
      "source": [
        "sf_Retirement <- sf.data[c( 'Year','Job','Retirement')]\n",
        "sf_Retirement <- sf_Retirement[sf_Retirement$Year == '2020',]\n",
        "sf_Retirement <- sf_Retirement %>% group_by('Job') %>% arrange(desc(Retirement))%>% head(n=10)\n",
        "sf_Retirement <-  sf_Retirement %>% filter(Retirement > 50000)\n",
        "sf_Retirement[4] <- NULL\n",
        "dim(sf_Retirement)\n",
        "cat(\"These Shows Number of Rows\")\n",
        "sf_Retirement"
      ],
      "metadata": {
        "colab": {
          "base_uri": "https://localhost:8080/",
          "height": 446
        },
        "id": "lajQvIn51T3F",
        "outputId": "7824502e-081e-4f17-8935-0430f8ea0cbf"
      },
      "execution_count": 165,
      "outputs": [
        {
          "output_type": "display_data",
          "data": {
            "text/html": [
              "<style>\n",
              ".list-inline {list-style: none; margin:0; padding: 0}\n",
              ".list-inline>li {display: inline-block}\n",
              ".list-inline>li:not(:last-child)::after {content: \"\\00b7\"; padding: 0 .5ex}\n",
              "</style>\n",
              "<ol class=list-inline><li>10</li><li>3</li></ol>\n"
            ],
            "text/markdown": "1. 10\n2. 3\n\n\n",
            "text/latex": "\\begin{enumerate*}\n\\item 10\n\\item 3\n\\end{enumerate*}\n",
            "text/plain": [
              "[1] 10  3"
            ]
          },
          "metadata": {}
        },
        {
          "output_type": "stream",
          "name": "stdout",
          "text": [
            "These Shows Number of Rows"
          ]
        },
        {
          "output_type": "display_data",
          "data": {
            "text/html": [
              "<table class=\"dataframe\">\n",
              "<caption>A tibble: 10 × 3</caption>\n",
              "<thead>\n",
              "\t<tr><th scope=col>Year</th><th scope=col>Job</th><th scope=col>Retirement</th></tr>\n",
              "\t<tr><th scope=col>&lt;int&gt;</th><th scope=col>&lt;chr&gt;</th><th scope=col>&lt;dbl&gt;</th></tr>\n",
              "</thead>\n",
              "<tbody>\n",
              "\t<tr><td>2020</td><td>Chief Investment Officer    </td><td>114934.16</td></tr>\n",
              "\t<tr><td>2020</td><td>Chief Deputy Sheriff (PERS) </td><td> 99840.50</td></tr>\n",
              "\t<tr><td>2020</td><td>Undersheriff                </td><td> 97997.87</td></tr>\n",
              "\t<tr><td>2020</td><td>Managing Director           </td><td> 96118.05</td></tr>\n",
              "\t<tr><td>2020</td><td>Managing Director           </td><td> 96039.33</td></tr>\n",
              "\t<tr><td>2020</td><td>Physician Administrator, DPH</td><td> 94900.65</td></tr>\n",
              "\t<tr><td>2020</td><td>Sheriff                     </td><td> 94624.87</td></tr>\n",
              "\t<tr><td>2020</td><td>Managing Director           </td><td> 91763.58</td></tr>\n",
              "\t<tr><td>2020</td><td>Physician Administrator, DPH</td><td> 90381.73</td></tr>\n",
              "\t<tr><td>2020</td><td>Managing Director           </td><td> 89844.26</td></tr>\n",
              "</tbody>\n",
              "</table>\n"
            ],
            "text/markdown": "\nA tibble: 10 × 3\n\n| Year &lt;int&gt; | Job &lt;chr&gt; | Retirement &lt;dbl&gt; |\n|---|---|---|\n| 2020 | Chief Investment Officer     | 114934.16 |\n| 2020 | Chief Deputy Sheriff (PERS)  |  99840.50 |\n| 2020 | Undersheriff                 |  97997.87 |\n| 2020 | Managing Director            |  96118.05 |\n| 2020 | Managing Director            |  96039.33 |\n| 2020 | Physician Administrator, DPH |  94900.65 |\n| 2020 | Sheriff                      |  94624.87 |\n| 2020 | Managing Director            |  91763.58 |\n| 2020 | Physician Administrator, DPH |  90381.73 |\n| 2020 | Managing Director            |  89844.26 |\n\n",
            "text/latex": "A tibble: 10 × 3\n\\begin{tabular}{lll}\n Year & Job & Retirement\\\\\n <int> & <chr> & <dbl>\\\\\n\\hline\n\t 2020 & Chief Investment Officer     & 114934.16\\\\\n\t 2020 & Chief Deputy Sheriff (PERS)  &  99840.50\\\\\n\t 2020 & Undersheriff                 &  97997.87\\\\\n\t 2020 & Managing Director            &  96118.05\\\\\n\t 2020 & Managing Director            &  96039.33\\\\\n\t 2020 & Physician Administrator, DPH &  94900.65\\\\\n\t 2020 & Sheriff                      &  94624.87\\\\\n\t 2020 & Managing Director            &  91763.58\\\\\n\t 2020 & Physician Administrator, DPH &  90381.73\\\\\n\t 2020 & Managing Director            &  89844.26\\\\\n\\end{tabular}\n",
            "text/plain": [
              "   Year Job                          Retirement\n",
              "1  2020 Chief Investment Officer     114934.16 \n",
              "2  2020 Chief Deputy Sheriff (PERS)   99840.50 \n",
              "3  2020 Undersheriff                  97997.87 \n",
              "4  2020 Managing Director             96118.05 \n",
              "5  2020 Managing Director             96039.33 \n",
              "6  2020 Physician Administrator, DPH  94900.65 \n",
              "7  2020 Sheriff                       94624.87 \n",
              "8  2020 Managing Director             91763.58 \n",
              "9  2020 Physician Administrator, DPH  90381.73 \n",
              "10 2020 Managing Director             89844.26 "
            ]
          },
          "metadata": {}
        }
      ]
    },
    {
      "cell_type": "markdown",
      "source": [
        "In 2020, the Chief Investment Officer received a retirement benefit of $114,934.16, reflecting the financial expertise and leadership role within the organization. Managing Directors and the Physician Administrator, DPH, also received substantial retirement benefits, underscoring the value placed on their strategic leadership and contributions to healthcare and organizational success."
      ],
      "metadata": {
        "id": "nGLr9zrc1gkn"
      }
    },
    {
      "cell_type": "markdown",
      "source": [
        "6.2. Highest Overtime of Various Job role of Year 2020\n"
      ],
      "metadata": {
        "id": "MD-jm9zL4dn3"
      }
    },
    {
      "cell_type": "code",
      "source": [
        "sf_overtime <- sf.data[c( 'Year','Job','Overtime')]\n",
        "sf_overtime <- sf_overtime [sf_overtime$Year == '2020',]\n",
        "sf_overtime <- sf_overtime %>% group_by('Job') %>% arrange(desc(Overtime))%>% head(n=10)\n",
        "sf_overtime <- sf_overtime %>% filter(Overtime > 100000)\n",
        "sf_overtime[4] <- NULL\n",
        "sf_overtime"
      ],
      "metadata": {
        "colab": {
          "base_uri": "https://localhost:8080/",
          "height": 411
        },
        "id": "nFfqUukN4eol",
        "outputId": "d44145ca-a34b-4bca-d17b-9dd6cc518fa6"
      },
      "execution_count": 150,
      "outputs": [
        {
          "output_type": "display_data",
          "data": {
            "text/html": [
              "<table class=\"dataframe\">\n",
              "<caption>A tibble: 10 × 3</caption>\n",
              "<thead>\n",
              "\t<tr><th scope=col>Year</th><th scope=col>Job</th><th scope=col>Overtime</th></tr>\n",
              "\t<tr><th scope=col>&lt;int&gt;</th><th scope=col>&lt;chr&gt;</th><th scope=col>&lt;dbl&gt;</th></tr>\n",
              "</thead>\n",
              "<tbody>\n",
              "\t<tr><td>2020</td><td>Senior Deputy Sheriff</td><td>317589.4</td></tr>\n",
              "\t<tr><td>2020</td><td>Deputy Sheriff       </td><td>272856.4</td></tr>\n",
              "\t<tr><td>2020</td><td>Deputy Sheriff       </td><td>262417.2</td></tr>\n",
              "\t<tr><td>2020</td><td>Senior Deputy Sheriff</td><td>249774.1</td></tr>\n",
              "\t<tr><td>2020</td><td>Senior Deputy Sheriff</td><td>238600.4</td></tr>\n",
              "\t<tr><td>2020</td><td>Sheriff's Lieutenant </td><td>214921.0</td></tr>\n",
              "\t<tr><td>2020</td><td>Sheriff's Lieutenant </td><td>214900.2</td></tr>\n",
              "\t<tr><td>2020</td><td>Deputy Sheriff       </td><td>213483.0</td></tr>\n",
              "\t<tr><td>2020</td><td>Senior Deputy Sheriff</td><td>213198.3</td></tr>\n",
              "\t<tr><td>2020</td><td>Sheriff's Lieutenant </td><td>209889.9</td></tr>\n",
              "</tbody>\n",
              "</table>\n"
            ],
            "text/markdown": "\nA tibble: 10 × 3\n\n| Year &lt;int&gt; | Job &lt;chr&gt; | Overtime &lt;dbl&gt; |\n|---|---|---|\n| 2020 | Senior Deputy Sheriff | 317589.4 |\n| 2020 | Deputy Sheriff        | 272856.4 |\n| 2020 | Deputy Sheriff        | 262417.2 |\n| 2020 | Senior Deputy Sheriff | 249774.1 |\n| 2020 | Senior Deputy Sheriff | 238600.4 |\n| 2020 | Sheriff's Lieutenant  | 214921.0 |\n| 2020 | Sheriff's Lieutenant  | 214900.2 |\n| 2020 | Deputy Sheriff        | 213483.0 |\n| 2020 | Senior Deputy Sheriff | 213198.3 |\n| 2020 | Sheriff's Lieutenant  | 209889.9 |\n\n",
            "text/latex": "A tibble: 10 × 3\n\\begin{tabular}{lll}\n Year & Job & Overtime\\\\\n <int> & <chr> & <dbl>\\\\\n\\hline\n\t 2020 & Senior Deputy Sheriff & 317589.4\\\\\n\t 2020 & Deputy Sheriff        & 272856.4\\\\\n\t 2020 & Deputy Sheriff        & 262417.2\\\\\n\t 2020 & Senior Deputy Sheriff & 249774.1\\\\\n\t 2020 & Senior Deputy Sheriff & 238600.4\\\\\n\t 2020 & Sheriff's Lieutenant  & 214921.0\\\\\n\t 2020 & Sheriff's Lieutenant  & 214900.2\\\\\n\t 2020 & Deputy Sheriff        & 213483.0\\\\\n\t 2020 & Senior Deputy Sheriff & 213198.3\\\\\n\t 2020 & Sheriff's Lieutenant  & 209889.9\\\\\n\\end{tabular}\n",
            "text/plain": [
              "   Year Job                   Overtime\n",
              "1  2020 Senior Deputy Sheriff 317589.4\n",
              "2  2020 Deputy Sheriff        272856.4\n",
              "3  2020 Deputy Sheriff        262417.2\n",
              "4  2020 Senior Deputy Sheriff 249774.1\n",
              "5  2020 Senior Deputy Sheriff 238600.4\n",
              "6  2020 Sheriff's Lieutenant  214921.0\n",
              "7  2020 Sheriff's Lieutenant  214900.2\n",
              "8  2020 Deputy Sheriff        213483.0\n",
              "9  2020 Senior Deputy Sheriff 213198.3\n",
              "10 2020 Sheriff's Lieutenant  209889.9"
            ]
          },
          "metadata": {}
        }
      ]
    },
    {
      "cell_type": "markdown",
      "source": [
        "In 2020, Senior Deputy Sheriffs received the highest overtime earnings at $317,589.4, followed by Deputy Sheriffs and Sheriff's Lieutenants, indicating the additional compensation for their roles in law enforcement, often involving demanding and unpredictable work hours. These overtime benefits recognize the dedication and effort put into maintaining public safety."
      ],
      "metadata": {
        "id": "D8e5PcOS2Xez"
      }
    },
    {
      "cell_type": "markdown",
      "source": [
        "6.3. Highest Health and Dental Benefits of Various Job role of Year 2020"
      ],
      "metadata": {
        "id": "X_ww39lL76nW"
      }
    },
    {
      "cell_type": "code",
      "source": [
        "sf_health <- sf.data[c( 'Year','Job','Health.and.Dental')]\n",
        "sf_health <- sf_health [sf_health$Year == '2020',]\n",
        "sf_health <- sf_health %>% group_by('Job') %>% arrange(desc(Health.and.Dental))%>% head(n=10)\n",
        "sf_health <- sf_health %>% filter(Health.and.Dental > 7500)\n",
        "sf_health  [4] <- NULL\n",
        "sf_health"
      ],
      "metadata": {
        "colab": {
          "base_uri": "https://localhost:8080/",
          "height": 411
        },
        "id": "qx8S561k8yzz",
        "outputId": "4b38bbca-2e2b-431e-d030-3d54a1461dd1"
      },
      "execution_count": 154,
      "outputs": [
        {
          "output_type": "display_data",
          "data": {
            "text/html": [
              "<table class=\"dataframe\">\n",
              "<caption>A tibble: 10 × 3</caption>\n",
              "<thead>\n",
              "\t<tr><th scope=col>Year</th><th scope=col>Job</th><th scope=col>Health.and.Dental</th></tr>\n",
              "\t<tr><th scope=col>&lt;int&gt;</th><th scope=col>&lt;chr&gt;</th><th scope=col>&lt;dbl&gt;</th></tr>\n",
              "</thead>\n",
              "<tbody>\n",
              "\t<tr><td>2020</td><td>Manager VI                </td><td>49000.22</td></tr>\n",
              "\t<tr><td>2020</td><td>Manager III               </td><td>43446.48</td></tr>\n",
              "\t<tr><td>2020</td><td>Court Manager             </td><td>35633.00</td></tr>\n",
              "\t<tr><td>2020</td><td>Court Computer Sys Manager</td><td>35633.00</td></tr>\n",
              "\t<tr><td>2020</td><td>Manager I                 </td><td>33480.25</td></tr>\n",
              "\t<tr><td>2020</td><td>Manager II, MTA           </td><td>33479.10</td></tr>\n",
              "\t<tr><td>2020</td><td>Manager V                 </td><td>32363.01</td></tr>\n",
              "\t<tr><td>2020</td><td>Lieutenant 3              </td><td>32257.85</td></tr>\n",
              "\t<tr><td>2020</td><td>Lieutenant 3              </td><td>32009.72</td></tr>\n",
              "\t<tr><td>2020</td><td>Duty Officer              </td><td>31947.58</td></tr>\n",
              "</tbody>\n",
              "</table>\n"
            ],
            "text/markdown": "\nA tibble: 10 × 3\n\n| Year &lt;int&gt; | Job &lt;chr&gt; | Health.and.Dental &lt;dbl&gt; |\n|---|---|---|\n| 2020 | Manager VI                 | 49000.22 |\n| 2020 | Manager III                | 43446.48 |\n| 2020 | Court Manager              | 35633.00 |\n| 2020 | Court Computer Sys Manager | 35633.00 |\n| 2020 | Manager I                  | 33480.25 |\n| 2020 | Manager II, MTA            | 33479.10 |\n| 2020 | Manager V                  | 32363.01 |\n| 2020 | Lieutenant 3               | 32257.85 |\n| 2020 | Lieutenant 3               | 32009.72 |\n| 2020 | Duty Officer               | 31947.58 |\n\n",
            "text/latex": "A tibble: 10 × 3\n\\begin{tabular}{lll}\n Year & Job & Health.and.Dental\\\\\n <int> & <chr> & <dbl>\\\\\n\\hline\n\t 2020 & Manager VI                 & 49000.22\\\\\n\t 2020 & Manager III                & 43446.48\\\\\n\t 2020 & Court Manager              & 35633.00\\\\\n\t 2020 & Court Computer Sys Manager & 35633.00\\\\\n\t 2020 & Manager I                  & 33480.25\\\\\n\t 2020 & Manager II, MTA            & 33479.10\\\\\n\t 2020 & Manager V                  & 32363.01\\\\\n\t 2020 & Lieutenant 3               & 32257.85\\\\\n\t 2020 & Lieutenant 3               & 32009.72\\\\\n\t 2020 & Duty Officer               & 31947.58\\\\\n\\end{tabular}\n",
            "text/plain": [
              "   Year Job                        Health.and.Dental\n",
              "1  2020 Manager VI                 49000.22         \n",
              "2  2020 Manager III                43446.48         \n",
              "3  2020 Court Manager              35633.00         \n",
              "4  2020 Court Computer Sys Manager 35633.00         \n",
              "5  2020 Manager I                  33480.25         \n",
              "6  2020 Manager II, MTA            33479.10         \n",
              "7  2020 Manager V                  32363.01         \n",
              "8  2020 Lieutenant 3               32257.85         \n",
              "9  2020 Lieutenant 3               32009.72         \n",
              "10 2020 Duty Officer               31947.58         "
            ]
          },
          "metadata": {}
        }
      ]
    },
    {
      "cell_type": "markdown",
      "source": [
        "In 2020, the job roles of Manager VI, Manager III, and Court Manager received the highest health and dental benefits, totaling $49,000.22, $43,446.48, and $35,633.00, respectively. These substantial benefits reflect the organization's commitment to ensuring the well-being and healthcare coverage of its managerial staff. Additionally, Lieutenant 3 and Duty Officer positions also received significant health and dental benefits, highlighting the importance of employee health in their roles within the organization."
      ],
      "metadata": {
        "id": "vI1sXTmE29xf"
      }
    },
    {
      "cell_type": "markdown",
      "source": [
        "#***7.loops***"
      ],
      "metadata": {
        "id": "8bCaQYSC-lnG"
      }
    },
    {
      "cell_type": "markdown",
      "source": [
        "#7.1.Highest Salary"
      ],
      "metadata": {
        "id": "FfgN44KU-uQi"
      }
    },
    {
      "cell_type": "code",
      "source": [
        "# Create an empty data frame to store the results\n",
        "highest_salary_and_job_family_by_year <- data.frame(Year = integer(), Highest_Total_Salary = numeric(), Highest_Job_Family = character())\n",
        "\n",
        "# Get unique years in the dataset\n",
        "unique_years <- unique(sf.data$Year)\n",
        "\n",
        "# Loop through each unique year\n",
        "for (year in unique_years) {\n",
        "  # Filter the data for the current year\n",
        "  year_data <- sf.data[sf.data$Year == year, ]\n",
        "\n",
        "  # Find the highest Total.Salary for employees in this year\n",
        "  highest_salary <- max(year_data$Total.Salary, na.rm = TRUE)\n",
        "\n",
        "  # Find the corresponding Job.Family for the employee with the highest salary\n",
        "  highest_salary_job_family <- year_data[year_data$Total.Salary == highest_salary, ]$Job.Family\n",
        "\n",
        "  # Create a data frame with the year, highest Total.Salary, and highest Job.Family\n",
        "  year_result <- data.frame(Year = year, Highest_Total_Salary = highest_salary, Highest_Job_Family = highest_salary_job_family)\n",
        "\n",
        "  # Append the result to the final data frame\n",
        "  highest_salary_and_job_family_by_year <- rbind(highest_salary_and_job_family_by_year, year_result)\n",
        "}\n",
        "\n",
        "# Print the resulting data frame\n",
        "highest_salary_and_job_family_by_year\n"
      ],
      "metadata": {
        "colab": {
          "base_uri": "https://localhost:8080/",
          "height": 349
        },
        "id": "aa2CGuwCZPen",
        "outputId": "b26fcedc-35b2-431d-afed-c50dd69ddb4e"
      },
      "execution_count": 186,
      "outputs": [
        {
          "output_type": "display_data",
          "data": {
            "text/html": [
              "<table class=\"dataframe\">\n",
              "<caption>A data.frame: 8 × 3</caption>\n",
              "<thead>\n",
              "\t<tr><th scope=col>Year</th><th scope=col>Highest_Total_Salary</th><th scope=col>Highest_Job_Family</th></tr>\n",
              "\t<tr><th scope=col>&lt;int&gt;</th><th scope=col>&lt;dbl&gt;</th><th scope=col>&lt;chr&gt;</th></tr>\n",
              "</thead>\n",
              "<tbody>\n",
              "\t<tr><td>2013</td><td>381716.8</td><td>Fire Services                </td></tr>\n",
              "\t<tr><td>2014</td><td>372637.8</td><td>Police Services              </td></tr>\n",
              "\t<tr><td>2015</td><td>409892.6</td><td><span style=white-space:pre-wrap>Med Therapy &amp; Auxiliary      </span></td></tr>\n",
              "\t<tr><td>2016</td><td>515101.8</td><td>Administrative &amp; Mgmt (Unrep)</td></tr>\n",
              "\t<tr><td>2017</td><td>533985.9</td><td>Administrative &amp; Mgmt (Unrep)</td></tr>\n",
              "\t<tr><td>2018</td><td>550065.9</td><td>Administrative &amp; Mgmt (Unrep)</td></tr>\n",
              "\t<tr><td>2019</td><td>658867.6</td><td>Police Services              </td></tr>\n",
              "\t<tr><td>2020</td><td>584297.6</td><td>Administrative &amp; Mgmt (Unrep)</td></tr>\n",
              "</tbody>\n",
              "</table>\n"
            ],
            "text/markdown": "\nA data.frame: 8 × 3\n\n| Year &lt;int&gt; | Highest_Total_Salary &lt;dbl&gt; | Highest_Job_Family &lt;chr&gt; |\n|---|---|---|\n| 2013 | 381716.8 | Fire Services                 |\n| 2014 | 372637.8 | Police Services               |\n| 2015 | 409892.6 | Med Therapy &amp; Auxiliary       |\n| 2016 | 515101.8 | Administrative &amp; Mgmt (Unrep) |\n| 2017 | 533985.9 | Administrative &amp; Mgmt (Unrep) |\n| 2018 | 550065.9 | Administrative &amp; Mgmt (Unrep) |\n| 2019 | 658867.6 | Police Services               |\n| 2020 | 584297.6 | Administrative &amp; Mgmt (Unrep) |\n\n",
            "text/latex": "A data.frame: 8 × 3\n\\begin{tabular}{lll}\n Year & Highest\\_Total\\_Salary & Highest\\_Job\\_Family\\\\\n <int> & <dbl> & <chr>\\\\\n\\hline\n\t 2013 & 381716.8 & Fire Services                \\\\\n\t 2014 & 372637.8 & Police Services              \\\\\n\t 2015 & 409892.6 & Med Therapy \\& Auxiliary      \\\\\n\t 2016 & 515101.8 & Administrative \\& Mgmt (Unrep)\\\\\n\t 2017 & 533985.9 & Administrative \\& Mgmt (Unrep)\\\\\n\t 2018 & 550065.9 & Administrative \\& Mgmt (Unrep)\\\\\n\t 2019 & 658867.6 & Police Services              \\\\\n\t 2020 & 584297.6 & Administrative \\& Mgmt (Unrep)\\\\\n\\end{tabular}\n",
            "text/plain": [
              "  Year Highest_Total_Salary Highest_Job_Family           \n",
              "1 2013 381716.8             Fire Services                \n",
              "2 2014 372637.8             Police Services              \n",
              "3 2015 409892.6             Med Therapy & Auxiliary      \n",
              "4 2016 515101.8             Administrative & Mgmt (Unrep)\n",
              "5 2017 533985.9             Administrative & Mgmt (Unrep)\n",
              "6 2018 550065.9             Administrative & Mgmt (Unrep)\n",
              "7 2019 658867.6             Police Services              \n",
              "8 2020 584297.6             Administrative & Mgmt (Unrep)"
            ]
          },
          "metadata": {}
        }
      ]
    },
    {
      "cell_type": "markdown",
      "source": [
        "From 2013 to 2020, the highest salaries were observed in various organizational groups. Notably, in 2019, the Police Services group had the highest salary at  658,867.6, reflecting the competitive compensation offered to support law enforcement efforts. In the following years, from 2016 to 2018, the Administrative & Management (Unrepresented) group exhibited substantial salaries, with a peak of 550,065.9 in 2018, indicating attractive remuneration for managerial and administrative roles. Additionally, 2017 saw a significant rise in salaries in this group, reaching $533,985.9. These fluctuations in highest salaries across different years highlight the dynamic nature of compensation within diverse organizational sectors."
      ],
      "metadata": {
        "id": "4-aam6C73q2w"
      }
    },
    {
      "cell_type": "markdown",
      "source": [
        "#7.2.lowest Retirement"
      ],
      "metadata": {
        "id": "c83XKcKvapGg"
      }
    },
    {
      "cell_type": "code",
      "source": [
        "# Create an empty data frame to store the results\n",
        "lowest_retirement_and_job_family_by_year <- data.frame(Year = integer(), Lowest_Retirement = numeric(), Lowest_Job_Family = character())\n",
        "\n",
        "# Get unique years in the dataset\n",
        "unique_years <- unique(sf.data$Year)\n",
        "\n",
        "# Loop through each unique year\n",
        "for (year in unique_years) {\n",
        "  # Filter the data for the current year\n",
        "  year_data <- sf.data[sf.data$Year == year, ]\n",
        "\n",
        "  # Find the lowest Retirement for employees in this year\n",
        "  lowest_retirement <- min(year_data$Retirement, na.rm = TRUE)\n",
        "\n",
        "  # Find the corresponding Job.Family for the employee with the lowest retirement\n",
        "  lowest_retirement_job_family <- year_data[year_data$Retirement == lowest_retirement, ]$Job.Family\n",
        "\n",
        "  # Create a data frame with the year, lowest retirement, and lowest job family\n",
        "  year_result <- data.frame(Year = year, Lowest_Retirement = lowest_retirement, Lowest_Job_Family = lowest_retirement_job_family)\n",
        "\n",
        "  # Append the result to the final data frame\n",
        "  lowest_retirement_and_job_family_by_year <- rbind(lowest_retirement_and_job_family_by_year, year_result)\n",
        "}\n",
        "\n",
        "# Print the resulting data frame\n",
        "lowest_retirement_and_job_family_by_year\n"
      ],
      "metadata": {
        "colab": {
          "base_uri": "https://localhost:8080/",
          "height": 380
        },
        "id": "fJYpcsc_b4SU",
        "outputId": "4166bb05-354c-4a01-b75d-72d44e82369f"
      },
      "execution_count": 188,
      "outputs": [
        {
          "output_type": "display_data",
          "data": {
            "text/html": [
              "<table class=\"dataframe\">\n",
              "<caption>A data.frame: 9 × 3</caption>\n",
              "<thead>\n",
              "\t<tr><th scope=col>Year</th><th scope=col>Lowest_Retirement</th><th scope=col>Lowest_Job_Family</th></tr>\n",
              "\t<tr><th scope=col>&lt;int&gt;</th><th scope=col>&lt;dbl&gt;</th><th scope=col>&lt;chr&gt;</th></tr>\n",
              "</thead>\n",
              "<tbody>\n",
              "\t<tr><td>2013</td><td>-21302.02</td><td>Nursing      </td></tr>\n",
              "\t<tr><td>2014</td><td>-28723.19</td><td>Nursing      </td></tr>\n",
              "\t<tr><td>2015</td><td>-21137.23</td><td>Nursing      </td></tr>\n",
              "\t<tr><td>2016</td><td> -1069.96</td><td>Skilled Labor</td></tr>\n",
              "\t<tr><td>2017</td><td> -6129.43</td><td>Legal &amp; Court</td></tr>\n",
              "\t<tr><td>2017</td><td> -6129.43</td><td>Legal &amp; Court</td></tr>\n",
              "\t<tr><td>2018</td><td>-26670.15</td><td>Nursing      </td></tr>\n",
              "\t<tr><td>2019</td><td> -1372.34</td><td>Legal &amp; Court</td></tr>\n",
              "\t<tr><td>2020</td><td> -1603.77</td><td>Personnel    </td></tr>\n",
              "</tbody>\n",
              "</table>\n"
            ],
            "text/markdown": "\nA data.frame: 9 × 3\n\n| Year &lt;int&gt; | Lowest_Retirement &lt;dbl&gt; | Lowest_Job_Family &lt;chr&gt; |\n|---|---|---|\n| 2013 | -21302.02 | Nursing       |\n| 2014 | -28723.19 | Nursing       |\n| 2015 | -21137.23 | Nursing       |\n| 2016 |  -1069.96 | Skilled Labor |\n| 2017 |  -6129.43 | Legal &amp; Court |\n| 2017 |  -6129.43 | Legal &amp; Court |\n| 2018 | -26670.15 | Nursing       |\n| 2019 |  -1372.34 | Legal &amp; Court |\n| 2020 |  -1603.77 | Personnel     |\n\n",
            "text/latex": "A data.frame: 9 × 3\n\\begin{tabular}{lll}\n Year & Lowest\\_Retirement & Lowest\\_Job\\_Family\\\\\n <int> & <dbl> & <chr>\\\\\n\\hline\n\t 2013 & -21302.02 & Nursing      \\\\\n\t 2014 & -28723.19 & Nursing      \\\\\n\t 2015 & -21137.23 & Nursing      \\\\\n\t 2016 &  -1069.96 & Skilled Labor\\\\\n\t 2017 &  -6129.43 & Legal \\& Court\\\\\n\t 2017 &  -6129.43 & Legal \\& Court\\\\\n\t 2018 & -26670.15 & Nursing      \\\\\n\t 2019 &  -1372.34 & Legal \\& Court\\\\\n\t 2020 &  -1603.77 & Personnel    \\\\\n\\end{tabular}\n",
            "text/plain": [
              "  Year Lowest_Retirement Lowest_Job_Family\n",
              "1 2013 -21302.02         Nursing          \n",
              "2 2014 -28723.19         Nursing          \n",
              "3 2015 -21137.23         Nursing          \n",
              "4 2016  -1069.96         Skilled Labor    \n",
              "5 2017  -6129.43         Legal & Court    \n",
              "6 2017  -6129.43         Legal & Court    \n",
              "7 2018 -26670.15         Nursing          \n",
              "8 2019  -1372.34         Legal & Court    \n",
              "9 2020  -1603.77         Personnel        "
            ]
          },
          "metadata": {}
        }
      ]
    },
    {
      "cell_type": "markdown",
      "source": [
        "Between 2013 and 2020, the lowest retirement benefits were observed in various job families. Notably, in 2016, the job family \"Skilled Labor\" had the lowest retirement benefits at 1,069.96, indicating a relatively limited retirement package for this category of workers. The year 2017 saw the \"Legal & Court\" job family with two instances of low retirement benefits, suggesting some inconsistency within this group. In 2019, another \"Legal & Court\" job family entry showed low retirement benefits at $1,372.34. These fluctuations in retirement benefits across different job families and years underscore the disparities in retirement planning and support within various employment sectors."
      ],
      "metadata": {
        "id": "-EtaLEMY4cEJ"
      }
    },
    {
      "cell_type": "markdown",
      "source": [
        "#7.3.Lowest Salaries"
      ],
      "metadata": {
        "id": "mPM3wYodcQQ0"
      }
    },
    {
      "cell_type": "code",
      "source": [
        "# Create an empty data frame to store the results\n",
        "lowest_salaries_and_job_family_by_year <- data.frame(Year = integer(), Lowest_Salaries = numeric(), Lowest_Job_Family = character())\n",
        "\n",
        "# Get unique years in the dataset\n",
        "unique_years <- unique(sf.data$Year)\n",
        "\n",
        "# Loop through each unique year\n",
        "for (year in unique_years) {\n",
        "  # Filter the data for the current year\n",
        "  year_data <- sf.data[sf.data$Year == year, ]\n",
        "\n",
        "  # Find the lowest Salaries for employees in this year\n",
        "  lowest_salaries <- min(year_data$Salaries, na.rm = TRUE)\n",
        "\n",
        "  # Find the corresponding Job.Family for the employee with the lowest Salaries\n",
        "  lowest_salaries_job_family <- year_data[year_data$Salaries == lowest_salaries, ]$Job.Family\n",
        "\n",
        "  # Create a data frame with the year, lowest Salaries, and lowest Job.Family\n",
        "  year_result <- data.frame(Year = year, Lowest_Salaries = lowest_salaries, Lowest_Job_Family = lowest_salaries_job_family)\n",
        "\n",
        "  # Append the result to the final data frame\n",
        "  lowest_salaries_and_job_family_by_year <- rbind(lowest_salaries_and_job_family_by_year, year_result)\n",
        "}\n",
        "\n",
        "# Print the resulting data frame\n",
        "lowest_salaries_and_job_family_by_year\n"
      ],
      "metadata": {
        "colab": {
          "base_uri": "https://localhost:8080/",
          "height": 380
        },
        "id": "yNi9p9_DcQ5w",
        "outputId": "8c889bfa-f322-44f1-d172-7c01704f907f"
      },
      "execution_count": 189,
      "outputs": [
        {
          "output_type": "display_data",
          "data": {
            "text/html": [
              "<table class=\"dataframe\">\n",
              "<caption>A data.frame: 9 × 3</caption>\n",
              "<thead>\n",
              "\t<tr><th scope=col>Year</th><th scope=col>Lowest_Salaries</th><th scope=col>Lowest_Job_Family</th></tr>\n",
              "\t<tr><th scope=col>&lt;int&gt;</th><th scope=col>&lt;dbl&gt;</th><th scope=col>&lt;chr&gt;</th></tr>\n",
              "</thead>\n",
              "<tbody>\n",
              "\t<tr><td>2013</td><td>-17635.32</td><td>Human Services         </td></tr>\n",
              "\t<tr><td>2014</td><td>-68771.78</td><td>Management             </td></tr>\n",
              "\t<tr><td>2015</td><td> -7423.00</td><td>Hospital Administration</td></tr>\n",
              "\t<tr><td>2016</td><td> -4770.20</td><td>Skilled Labor          </td></tr>\n",
              "\t<tr><td>2017</td><td>-33808.20</td><td><span style=white-space:pre-wrap>Legal &amp; Court          </span></td></tr>\n",
              "\t<tr><td>2017</td><td>-33808.20</td><td><span style=white-space:pre-wrap>Legal &amp; Court          </span></td></tr>\n",
              "\t<tr><td>2018</td><td>-15528.00</td><td>Management             </td></tr>\n",
              "\t<tr><td>2019</td><td>-24605.54</td><td>Nursing                </td></tr>\n",
              "\t<tr><td>2020</td><td>-10854.00</td><td>Management             </td></tr>\n",
              "</tbody>\n",
              "</table>\n"
            ],
            "text/markdown": "\nA data.frame: 9 × 3\n\n| Year &lt;int&gt; | Lowest_Salaries &lt;dbl&gt; | Lowest_Job_Family &lt;chr&gt; |\n|---|---|---|\n| 2013 | -17635.32 | Human Services          |\n| 2014 | -68771.78 | Management              |\n| 2015 |  -7423.00 | Hospital Administration |\n| 2016 |  -4770.20 | Skilled Labor           |\n| 2017 | -33808.20 | Legal &amp; Court           |\n| 2017 | -33808.20 | Legal &amp; Court           |\n| 2018 | -15528.00 | Management              |\n| 2019 | -24605.54 | Nursing                 |\n| 2020 | -10854.00 | Management              |\n\n",
            "text/latex": "A data.frame: 9 × 3\n\\begin{tabular}{lll}\n Year & Lowest\\_Salaries & Lowest\\_Job\\_Family\\\\\n <int> & <dbl> & <chr>\\\\\n\\hline\n\t 2013 & -17635.32 & Human Services         \\\\\n\t 2014 & -68771.78 & Management             \\\\\n\t 2015 &  -7423.00 & Hospital Administration\\\\\n\t 2016 &  -4770.20 & Skilled Labor          \\\\\n\t 2017 & -33808.20 & Legal \\& Court          \\\\\n\t 2017 & -33808.20 & Legal \\& Court          \\\\\n\t 2018 & -15528.00 & Management             \\\\\n\t 2019 & -24605.54 & Nursing                \\\\\n\t 2020 & -10854.00 & Management             \\\\\n\\end{tabular}\n",
            "text/plain": [
              "  Year Lowest_Salaries Lowest_Job_Family      \n",
              "1 2013 -17635.32       Human Services         \n",
              "2 2014 -68771.78       Management             \n",
              "3 2015  -7423.00       Hospital Administration\n",
              "4 2016  -4770.20       Skilled Labor          \n",
              "5 2017 -33808.20       Legal & Court          \n",
              "6 2017 -33808.20       Legal & Court          \n",
              "7 2018 -15528.00       Management             \n",
              "8 2019 -24605.54       Nursing                \n",
              "9 2020 -10854.00       Management             "
            ]
          },
          "metadata": {}
        }
      ]
    },
    {
      "cell_type": "markdown",
      "source": [
        "From 2013 to 2019, the lowest salaries were found across different job families and departments. In 2016, the \"Skilled Labor\" category had the lowest salaries at 4,770.20, indicating relatively lower earnings within this job family. The year 2015 saw Hospital Administration with notably low salaries at 7,423.00. Additionally, 2017 showed two entries for the \"Legal & Court\" job family with low salaries at $33,808.20, suggesting potential disparities in compensation within this sector. These fluctuations in salaries across various job families and years reflect variations in income levels and compensation practices in different employment domains."
      ],
      "metadata": {
        "id": "bTB0UNeQ49yB"
      }
    },
    {
      "cell_type": "markdown",
      "source": [
        "#***8.Summary***"
      ],
      "metadata": {
        "id": "iMzodo475Vj6"
      }
    },
    {
      "cell_type": "markdown",
      "source": [
        "Provided data showcases the organization's commitment to ensuring the financial security and well-being of its diverse workforce. It is evident that employees in crucial leadership positions, such as the Chief Investment Officer and Chief Deputy Sheriff (PERS), received substantial retirement benefits. This highlights the organization's recognition of the importance of providing comprehensive retirement planning and support to key personnel who hold critical roles within the organization. Even leadership positions like Undersheriff and Managing Director received significant retirement benefits, emphasizing the organization's dedication to helping its leaders secure their financial futures.\n",
        "\n",
        "Moreover, the data underscores the organization's inclusive approach to retirement planning, as employees from various job titles and levels actively contributed to their retirement funds. Notably, healthcare professionals like the Physician Administrator in the Department of Public Health (DPH) also participated in retirement planning, indicating the importance of securing the financial well-being of those dedicated to healthcare. Additionally, the retirement benefits provided to positions like Sheriff highlight the organization's commitment to supporting public safety leaders in achieving long-term financial stability. In summary, this data reflects a responsible and equitable approach to retirement planning, showcasing the organization's unwavering dedication to ensuring the financial security of its entire workforce, from top executives to frontline professionals."
      ],
      "metadata": {
        "id": "iXvZOxZK5bce"
      }
    },
    {
      "cell_type": "markdown",
      "source": [
        "#***9. Recommendations***"
      ],
      "metadata": {
        "id": "gJnJMc9G9v9w"
      }
    },
    {
      "cell_type": "markdown",
      "source": [
        "Based on the insights derived from the provided data, several recommendations can be made to optimize the organization's workforce management and compensation strategies.\n",
        "\n",
        "Firstly, the organization should consider implementing a structured retirement planning and financial literacy program for all employees, irrespective of their job roles. This would empower employees with the knowledge and tools necessary to make informed decisions about their retirement savings. Additionally, offering a retirement fund matching program could incentivize employees to actively contribute to their retirement accounts, thereby strengthening their long-term financial security.\n",
        "\n",
        "Secondly, it's essential for the organization to conduct regular salary and compensation benchmarking to ensure that its compensation packages remain competitive within the industry. This would help attract and retain top talent across various job families and departments. Furthermore, addressing disparities in compensation observed in certain job families, such as \"Skilled Labor\" and \"Legal & Court,\" should be a priority to ensure fairness and equity across all roles.\n",
        "\n",
        "Overall, a comprehensive approach to employee financial well-being, including retirement planning and competitive compensation practices, will not only enhance the organization's ability to attract and retain top talent but also demonstrate its commitment to supporting employees in their career development and long-term financial goals."
      ],
      "metadata": {
        "id": "uZkgzzer90OK"
      }
    }
  ]
}